{
 "cells": [
  {
   "cell_type": "code",
   "execution_count": 1,
   "metadata": {},
   "outputs": [],
   "source": [
    "### Importing libraries\n",
    "\n",
    "import omxware\n",
    "import math"
   ]
  },
  {
   "cell_type": "code",
   "execution_count": 2,
   "metadata": {},
   "outputs": [],
   "source": [
    "# --- Authentication options --- #\n",
    "# generate token with OMXWare user name and password (likely done once and then stored in file, see usage below)\n",
    "# token = omxware.get_token('<user_name>', '<pw>') # fill in password to initiate token\n",
    "\n",
    "# or\n",
    "\n",
    "# use previously generated token loaded from file\n",
    "token_path = \"./omxware_collaborative_work/super_awesome_token\"  # update for your path to the token file you create\n",
    "f = open(token_path)\n",
    "token = f.readline()\n",
    "\n",
    "# provide your token to authenticate with OMXWare\n",
    "omx = omxware.omxware(token)"
   ]
  },
  {
   "cell_type": "code",
   "execution_count": 3,
   "metadata": {},
   "outputs": [],
   "source": [
    "# Setting the search term (gene name)\n",
    "search_string = 'cytotoxin'"
   ]
  },
  {
   "cell_type": "code",
   "execution_count": 6,
   "metadata": {},
   "outputs": [
    {
     "name": "stdout",
     "output_type": "stream",
     "text": [
      "For 'cytotoxin', the Total Result Count is 3299.\n",
      "Page Size: 100\n",
      "Total Page Count: 33\n"
     ]
    }
   ],
   "source": [
    "###########################################################\n",
    "### STEP 1\n",
    "### Get total results count and calculating total page count based on this value.\n",
    "### For more detail: https://ibm.github.io/omxware-pypi-docs/build/html/omxware.entities.html#module-omxware.entities.Genus\n",
    "###########################################################\n",
    "\n",
    "# Performing search and getting the total result count\n",
    "response = omx.genes(gene_name=search_string)\n",
    "total_results_count = response.total_results()\n",
    "print(\"For '{}', the Total Result Count is {}.\".format(search_string, total_results_count))\n",
    "\n",
    "# Setting the page size\n",
    "page_size = 100\n",
    "\n",
    "# Calculating the total page count based on the page size and the total result count.\n",
    "total_page_count = math.ceil(total_results_count / page_size)\n",
    "\n",
    "print(\"Page Size: {}\".format(page_size))\n",
    "print(\"Total Page Count: {}\".format(total_page_count))"
   ]
  },
  {
   "cell_type": "code",
   "execution_count": null,
   "metadata": {
    "scrolled": true
   },
   "outputs": [
    {
     "name": "stdout",
     "output_type": "stream",
     "text": [
      "Filling result dataframe... [1/33]\n",
      "Filling result dataframe... [2/33]\n",
      "Filling result dataframe... [3/33]\n",
      "Filling result dataframe... [4/33]\n",
      "Filling result dataframe... [5/33]\n",
      "Filling result dataframe... [6/33]\n",
      "Filling result dataframe... [7/33]\n",
      "Filling result dataframe... [8/33]\n",
      "Filling result dataframe... [9/33]\n",
      "Filling result dataframe... [10/33]\n",
      "Filling result dataframe... [11/33]\n",
      "Filling result dataframe... [12/33]\n",
      "Filling result dataframe... [13/33]\n",
      "Filling result dataframe... [14/33]\n",
      "Filling result dataframe... [15/33]\n",
      "Filling result dataframe... [16/33]\n",
      "Filling result dataframe... [17/33]\n",
      "Filling result dataframe... [18/33]\n"
     ]
    }
   ],
   "source": [
    "###########################################################\n",
    "### STEP 2\n",
    "### Loop through pages of results and add to a dataframe\n",
    "### Can increase page size to speed this up too\n",
    "###########################################################\n",
    "\n",
    "# Filling all data into a single dataframe\n",
    "results_df = None\n",
    "for x in range(1,total_page_count+1):\n",
    "    print(\"Filling result dataframe... [{}/{}]\".format(x, total_page_count))\n",
    "    response_for_one_page = omx.genes(gene_name=search_string, page_size=page_size, page_number=x)\n",
    "    df_for_one_page = response_for_one_page.results(type='df')\n",
    "    if(results_df is None):\n",
    "        results_df = df_for_one_page\n",
    "    else:\n",
    "        results_df = results_df.append(df_for_one_page)\n",
    "\n",
    "\n",
    "print(\"\\nLength of the Result Dataframe: {}\".format(len(results_df)))"
   ]
  },
  {
   "cell_type": "code",
   "execution_count": null,
   "metadata": {},
   "outputs": [],
   "source": [
    "results_df.head()"
   ]
  }
 ],
 "metadata": {
  "kernelspec": {
   "display_name": "Python 3",
   "language": "python",
   "name": "python3"
  },
  "language_info": {
   "codemirror_mode": {
    "name": "ipython",
    "version": 3
   },
   "file_extension": ".py",
   "mimetype": "text/x-python",
   "name": "python",
   "nbconvert_exporter": "python",
   "pygments_lexer": "ipython3",
   "version": "3.7.6"
  }
 },
 "nbformat": 4,
 "nbformat_minor": 4
}
