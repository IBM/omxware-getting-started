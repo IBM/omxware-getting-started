{
 "cells": [
  {
   "cell_type": "markdown",
   "metadata": {},
   "source": [
    "\n",
    "## Overview:   \n",
    "This notebook demonstrates how to leverage different data formats for OMXWare results for downstream analysis.\n"
   ]
  },
  {
   "cell_type": "code",
   "execution_count": 1,
   "metadata": {},
   "outputs": [],
   "source": [
    "%matplotlib inline\n",
    "\n",
    "import json\n",
    "from IPython.display import display\n",
    "\n",
    "import omxware\n",
    "\n",
    "\n",
    "# --- Authentication options --- #\n",
    "# generate token with OMXWare user name and password (likely done once and then stored in file, see usage below)\n",
    "# token = omxware.get_token('harsha', '<pwd>') # fill in password to initiate token\n",
    "\n",
    "# or\n",
    "\n",
    "# use previously generated token loaded from file\n",
    "token_path = \"./omxware_collaborative_work/super_awesome_token\"  # update for your path to the token file you create\n",
    "f = open(token_path)\n",
    "token = f.readline()\n",
    "\n",
    "# provide your token to authenticate with OMXWare\n",
    "omx = omxware.omxware(token)"
   ]
  },
  {
   "cell_type": "markdown",
   "metadata": {},
   "source": [
    "### Retrieve gene data from OMXWare as a Pandas Dataframe"
   ]
  },
  {
   "cell_type": "code",
   "execution_count": 2,
   "metadata": {},
   "outputs": [
    {
     "data": {
      "text/html": [
       "<div>\n",
       "<style scoped>\n",
       "    .dataframe tbody tr th:only-of-type {\n",
       "        vertical-align: middle;\n",
       "    }\n",
       "\n",
       "    .dataframe tbody tr th {\n",
       "        vertical-align: top;\n",
       "    }\n",
       "\n",
       "    .dataframe thead th {\n",
       "        text-align: right;\n",
       "    }\n",
       "</style>\n",
       "<table border=\"1\" class=\"dataframe\">\n",
       "  <thead>\n",
       "    <tr style=\"text-align: right;\">\n",
       "      <th></th>\n",
       "      <th>classification</th>\n",
       "      <th>genera</th>\n",
       "      <th>genomes</th>\n",
       "      <th>id</th>\n",
       "      <th>name</th>\n",
       "      <th>omx_creation_ts</th>\n",
       "      <th>omx_modified_ts</th>\n",
       "      <th>sequence_length</th>\n",
       "      <th>status</th>\n",
       "      <th>type</th>\n",
       "    </tr>\n",
       "  </thead>\n",
       "  <tbody>\n",
       "    <tr>\n",
       "      <th>0</th>\n",
       "      <td>[bacteria]</td>\n",
       "      <td>[bacillus]</td>\n",
       "      <td>[GCF_000338315.1]</td>\n",
       "      <td>1600e340fae4151d651adad67f2c0fc7</td>\n",
       "      <td>[Sporulation kinase E]</td>\n",
       "      <td>2018-01-26T18:16:23.000-08:00</td>\n",
       "      <td>2018-01-26T18:16:23.000-08:00</td>\n",
       "      <td>1209</td>\n",
       "      <td>active</td>\n",
       "      <td>gene</td>\n",
       "    </tr>\n",
       "    <tr>\n",
       "      <th>1</th>\n",
       "      <td>[bacteria]</td>\n",
       "      <td>[bacillus]</td>\n",
       "      <td>[GCF_001277355.1]</td>\n",
       "      <td>39594227e62a141edebfe3e13ab055c4</td>\n",
       "      <td>[Sporulation protein YjcA]</td>\n",
       "      <td>2018-02-04T13:33:06.000-08:00</td>\n",
       "      <td>2018-02-04T13:33:06.000-08:00</td>\n",
       "      <td>366</td>\n",
       "      <td>active</td>\n",
       "      <td>gene</td>\n",
       "    </tr>\n",
       "    <tr>\n",
       "      <th>2</th>\n",
       "      <td>[bacteria]</td>\n",
       "      <td>[pseudomonas]</td>\n",
       "      <td>[GCF_000744215.1]</td>\n",
       "      <td>4e803d52fe7a74f0b51800f92544014b</td>\n",
       "      <td>[Sporulation kinase A]</td>\n",
       "      <td>2018-02-04T21:57:39.000-08:00</td>\n",
       "      <td>2018-02-04T21:57:39.000-08:00</td>\n",
       "      <td>2955</td>\n",
       "      <td>active</td>\n",
       "      <td>gene</td>\n",
       "    </tr>\n",
       "    <tr>\n",
       "      <th>3</th>\n",
       "      <td>[bacteria]</td>\n",
       "      <td>[bacillus]</td>\n",
       "      <td>[GCF_001548215.1]</td>\n",
       "      <td>32ca676ddb40e11a704ad385cad60161</td>\n",
       "      <td>[Sporulation kinase E]</td>\n",
       "      <td>2018-02-04T14:55:24.000-08:00</td>\n",
       "      <td>2018-02-04T14:55:24.000-08:00</td>\n",
       "      <td>3363</td>\n",
       "      <td>active</td>\n",
       "      <td>gene</td>\n",
       "    </tr>\n",
       "    <tr>\n",
       "      <th>4</th>\n",
       "      <td>[bacteria]</td>\n",
       "      <td>[bacillus]</td>\n",
       "      <td>[GCA_009789615.1, GCF_009789615.1]</td>\n",
       "      <td>0a5d47e939f9d2a10ccdb90646d49960</td>\n",
       "      <td>[Sporulation protein cse15]</td>\n",
       "      <td>2020-01-03T11:34:22.000-08:00</td>\n",
       "      <td>2020-02-07T22:54:30.000-08:00</td>\n",
       "      <td>993</td>\n",
       "      <td>active</td>\n",
       "      <td>gene</td>\n",
       "    </tr>\n",
       "  </tbody>\n",
       "</table>\n",
       "</div>"
      ],
      "text/plain": [
       "  classification         genera                             genomes  \\\n",
       "0     [bacteria]     [bacillus]                   [GCF_000338315.1]   \n",
       "1     [bacteria]     [bacillus]                   [GCF_001277355.1]   \n",
       "2     [bacteria]  [pseudomonas]                   [GCF_000744215.1]   \n",
       "3     [bacteria]     [bacillus]                   [GCF_001548215.1]   \n",
       "4     [bacteria]     [bacillus]  [GCA_009789615.1, GCF_009789615.1]   \n",
       "\n",
       "                                 id                         name  \\\n",
       "0  1600e340fae4151d651adad67f2c0fc7       [Sporulation kinase E]   \n",
       "1  39594227e62a141edebfe3e13ab055c4   [Sporulation protein YjcA]   \n",
       "2  4e803d52fe7a74f0b51800f92544014b       [Sporulation kinase A]   \n",
       "3  32ca676ddb40e11a704ad385cad60161       [Sporulation kinase E]   \n",
       "4  0a5d47e939f9d2a10ccdb90646d49960  [Sporulation protein cse15]   \n",
       "\n",
       "                 omx_creation_ts                omx_modified_ts  \\\n",
       "0  2018-01-26T18:16:23.000-08:00  2018-01-26T18:16:23.000-08:00   \n",
       "1  2018-02-04T13:33:06.000-08:00  2018-02-04T13:33:06.000-08:00   \n",
       "2  2018-02-04T21:57:39.000-08:00  2018-02-04T21:57:39.000-08:00   \n",
       "3  2018-02-04T14:55:24.000-08:00  2018-02-04T14:55:24.000-08:00   \n",
       "4  2020-01-03T11:34:22.000-08:00  2020-02-07T22:54:30.000-08:00   \n",
       "\n",
       "   sequence_length  status  type  \n",
       "0             1209  active  gene  \n",
       "1              366  active  gene  \n",
       "2             2955  active  gene  \n",
       "3             3363  active  gene  \n",
       "4              993  active  gene  "
      ]
     },
     "execution_count": 2,
     "metadata": {},
     "output_type": "execute_result"
    }
   ],
   "source": [
    "search_string = 'sporulation'\n",
    "response = omx.genes(gene_name=search_string, page_size=25)\n",
    "\n",
    "#total_results = response.total_results()\n",
    "#print(total_results)\n",
    "\n",
    "results_df = response.results(type='df')\n",
    "results_df.head()"
   ]
  },
  {
   "cell_type": "markdown",
   "metadata": {},
   "source": [
    "### Distribution of Genes by Genera"
   ]
  },
  {
   "cell_type": "code",
   "execution_count": 3,
   "metadata": {},
   "outputs": [
    {
     "data": {
      "image/png": "[encoded data removed]",
      "text/plain": [
       "<Figure size 432x288 with 1 Axes>"
      ]
     },
     "metadata": {},
     "output_type": "display_data"
    }
   ],
   "source": [
    "response.show_facets(name='genera', topN=7)"
   ]
  },
  {
   "cell_type": "markdown",
   "metadata": {},
   "source": [
    "### Retrieve gene data from OMXWare as JSON"
   ]
  },
  {
   "cell_type": "code",
   "execution_count": 4,
   "metadata": {},
   "outputs": [
    {
     "name": "stdout",
     "output_type": "stream",
     "text": [
      "[\n",
      "    {\n",
      "        \"classification\": [\n",
      "            \"bacteria\"\n",
      "        ],\n",
      "        \"genera\": [\n",
      "            \"bacillus\"\n",
      "        ],\n",
      "        \"genomes\": [\n",
      "            \"GCF_000338315.1\"\n",
      "        ],\n",
      "        \"id\": \"1600e340fae4151d651adad67f2c0fc7\",\n",
      "        \"name\": [\n",
      "            \"Sporulation kinase E\"\n",
      "        ],\n",
      "        \"omx_creation_ts\": \"2018-01-26T18:16:23.000-08:00\",\n",
      "        \"omx_modified_ts\": \"2018-01-26T18:16:23.000-08:00\",\n",
      "        \"sequence_length\": 1209,\n",
      "        \"status\": \"active\",\n",
      "        \"type\": \"gene\"\n",
      "    },\n",
      "    {\n",
      "        \"classification\": [\n",
      "            \"bacteria\"\n",
      "        ],\n",
      "        \"genera\": [\n",
      "            \"bacillus\"\n",
      "        ],\n",
      "        \"genomes\": [\n",
      "            \"GCF_001277355.1\"\n",
      "        ],\n",
      "        \"id\": \"39594227e62a141edebfe3e13ab055c4\",\n",
      "        \"name\": [\n",
      "            \"Sporulation protein YjcA\"\n",
      "        ],\n",
      "        \"omx_creation_ts\": \"2018-02-04T13:33:06.000-08:00\",\n",
      "        \"omx_modified_ts\": \"2018-02-04T13:33:06.000-08:00\",\n",
      "        \"sequence_length\": 366,\n",
      "        \"status\": \"active\",\n",
      "        \"type\": \"gene\"\n",
      "    },\n",
      "    {\n",
      "        \"classification\": [\n",
      "            \"bacteria\"\n",
      "        ],\n",
      "        \"genera\": [\n",
      "            \"pseudomonas\"\n",
      "        ],\n",
      "        \"genomes\": [\n",
      "            \"GCF_000744215.1\"\n",
      "        ],\n",
      "        \"id\": \"4e803d52fe7a74f0b51800f92544014b\",\n",
      "        \"name\": [\n",
      "            \"Sporulation kinase A\"\n",
      "        ],\n",
      "        \"omx_creation_ts\": \"2018-02-04T21:57:39.000-08:00\",\n",
      "        \"omx_modified_ts\": \"2018-02-04T21:57:39.000-08:00\",\n",
      "        \"sequence_length\": 2955,\n",
      "        \"status\": \"active\",\n",
      "        \"type\": \"gene\"\n",
      "    }\n",
      "]\n"
     ]
    }
   ],
   "source": [
    "results_json = response.results(type='json')\n",
    "print(json.dumps(results_json[:3], indent=4, sort_keys=True))"
   ]
  },
  {
   "cell_type": "markdown",
   "metadata": {},
   "source": [
    "### Retrieve gene data from OMXWare as an Object"
   ]
  },
  {
   "cell_type": "code",
   "execution_count": 5,
   "metadata": {},
   "outputs": [
    {
     "name": "stdout",
     "output_type": "stream",
     "text": [
      "Returns: List of gene objects \n",
      "Results: 106316\n",
      "\n",
      "Id  \t\t=> 1600e340fae4151d651adad67f2c0fc7\n",
      "Name   \t\t=> Sporulation kinase E\n",
      "Sequence   \t=> ATGCTCGTATACCATTTATTTTGGAATCAAAAAGGGAAACGTTCTCCTAAATTAAATTCAACTATATTTATTACATTATGTTGCCTCGCTACCATACTAT...\n",
      "Sequence length => 1209\n",
      "\n",
      "\n",
      " JSON:\n",
      "{'id': '1600e340fae4151d651adad67f2c0fc7', 'name': ['Sporulation kinase E'], 'type': 'gene', 'genera': ['bacillus'], 'genomes': ['GCF_000338315.1'], 'sequence_length': 1209, 'status': 'active', 'omx_creation_ts': '2018-01-26T18:16:23.000-08:00', 'omx_modified_ts': '2018-01-26T18:16:23.000-08:00', 'classification': ['bacteria']}\n"
     ]
    }
   ],
   "source": [
    "results_list = response.results(type='list')\n",
    "\n",
    "# By default, the API returns a `list`\n",
    "print(\"Returns: List of {} objects \\nResults: {}\\n\".format(response.type(), response.total_results()) )\n",
    "    \n",
    "gene = results_list[0]\n",
    "\n",
    "print(\"Id  \\t\\t=> \" + gene.id())\n",
    "print(\"Name   \\t\\t=> \" + ','.join(gene.name())) \n",
    "# note: since one sequence can have multiple names, gene and protein names are returned as a list\n",
    "\n",
    "print(\"Sequence   \\t=> \" + gene.sequence()[:100] + \"...\")\n",
    "print(\"Sequence length => \" + str(gene.sequence_length()))\n",
    "\n",
    "print(\"\\n\\n JSON:\")\n",
    "print(gene.json())"
   ]
  },
  {
   "cell_type": "markdown",
   "metadata": {},
   "source": [
    "### Retrieve gene data from OMXWare as FASTA"
   ]
  },
  {
   "cell_type": "code",
   "execution_count": 8,
   "metadata": {},
   "outputs": [
    {
     "name": "stdout",
     "output_type": "stream",
     "text": [
      ">OMX_gene_00054a98f8ddd95e3f46d9d757137284|Sensor histidine kinase RcsC,Sporulation initiation phosphotransferase F\n",
      "ATGAACGAGAAGGTGCTGCTGGTTGACGACGACGAGGCCATCCGCGAAGTCCTCAGCCTCTCCATCGCCGACCTGGGCTACGACGTGGAAACCGCCCCCGGCGGCCGCGAAGCCCTGGAGCTGTGCGCCACCTTCAAACCGTCCATCGTGCTCACCGACATCAAGATGCCCGGCATGGACGGCATCGAACTGCTCTCGCGCGTCAAAGCCCTCGATCCCGAGATCGAGGTCATCATGATTTCCGGCCATGGCGACATGGAACTGGCCATCGAGAGCCTCAAGCGCCAGGCCCTGGATTTCCTCACCAAGCCCGTGCGCGACGAACTGCTCACAGCCTCCCTCCACCGGGCCGCCGACCGCGTGTCCATGCGCCGCCAGATCACCGAACACACCCGCAATCTCGAACGGCTGGTGCGCGAAAAATCCGCCCGCCTGGTCGAGATGGAGCGCCGCATGGCCGTGGGGCAGGCCGTGGAGGGCGTGGCCAGCGCCATCGAGGGGCTCATTGCCTCCTTCGACCAGGGACCCAGCTATTTCAACCAGATGCCCTGCTGCATCGTCATCCACAACCGCTACCTCGAAATCGTGGCCGTAAACACCCTGGGCCGGCAGCGCCTGGGCGAGGTGGTGGGCAAGATGAGCTGGGAACTCTACGCCGACCGTCAGGGCAGCGGCAACGCCTGCCCGGTCTGGCGCACCGTGGAACAAGGCCAGGGCCAGCGCGGCCGCGAGACCTTCCGCGACAAGGACGGCCGCGAGATTCCGGTGCTGATCCATACCGCCCCGGTCTTCGGCACGGACGGCCAGGTGGAGCTGGTCATCGAGATCGCCGCCGACGTGGCCGAGGTGGGCCGGCTCCAGGAAGAGCTGCGGGCCGTGCGCGAGAAATTCCAGCGCCTGTTCGACGCCGTGCCCTGCGCCATCGCCGTGCTGGACCAGGACTTCACCGTGGTCGAAGCCAACCGCCAATGGCGCGCCGACTTCGGCGAGGCCGAAACCGGCCCCTGCCACAAACTGTTTGCCCACCGCGACGACCCCTGCGAACACTGCCCGGCCGAAAGCTCCTTCCACGACGGCGCGCCCCACGAAGGCGAAACTGTCGTGTCCACCCGCTGCGGCGCGGCCAAAAACATGTGGCTTCGCACCGCCCCCATCCCCGACGCCACAGGCGAAACCAGCCAGGTCATCGAAATCGCCGCCGACATCACCCCCATCCGGGCCCTGCAAGACCACCTCGCATCGCTTGGGCTCATGCTCGGCTCCATGTCCCACGGCGTCAAAGGCCTGCTCACCTCCCTCGACGGCGGCATGTTCAAGGTCGAAACCGGACTGTCCCGCGAGGACTGGACCCGCGTGCGCGACGGTTGGGGCGTGGTGTCCGACAAGATCGGACGCATCCGCAACATGGTGCTCGACATCCTGTGGTACGCCAAATCGCGCGAACCCGAGCTCTCCCCCGTCTCCATCGAAACCTTCGCCCGCGATCTGGCCGGCATCGTCGAACCCAAGGCCCAAAGCCGCGACGTGGCCTTCATCCTGCGCCTGGGCGAGGCCGCAGGCACGCTGCCCATGGACGAGACGGCGCTCACCTCGGCCATGGTCAACCTGCTCGAAAACGCCGTGGATGCCTGCGCCGAGGACAAGGCCAAGGCCTTCCACGAAGTGACCCTGACCGTGGAAGCCACGGCCGAGGCCGTGACCTTCGTGGTCGCCGACAACGGCGTCGGCATGGACCAGTCCACCCGGGAACGCATGTTTACGCTCTTTTTCTCCTCCAAAGGCTCGCGCGGCACCGGACTGGGGCTTTTCATCGCCAACCAGATCGTGGCCCAGCACGGAGGCTCCATCGCCGTGACCTCCGAACCCGGCGTCGGCAGCGCCATCGCCGTGCGCCTGCCGCGCGGCGCTAGCGTTTGCAGTTAG\n"
     ]
    }
   ],
   "source": [
    "new_gene_object = omx.genes(ids='00054a98f8ddd95e3f46d9d757137284').results(type='fasta')\n",
    "print(new_gene_object)"
   ]
  },
  {
   "cell_type": "markdown",
   "metadata": {},
   "source": [
    "### Retrieve Gene query results as fasta"
   ]
  },
  {
   "cell_type": "code",
   "execution_count": 9,
   "metadata": {},
   "outputs": [
    {
     "name": "stdout",
     "output_type": "stream",
     "text": [
      ">OMX_gene_1600e340fae4151d651adad67f2c0fc7|Sporulation kinase E\n",
      "ATGCTCGTATACCATTTATTTTGGAATCAAAAAGGGAAACGTTCTCCTAAATTAAATTCAACTATATTTATTACATTATGTTGCCTCGCTACCATACTATGTATTACTTTCGGAGCAAAAACAAATTATGGATTTCAATTTGATATGCGTCATATCGTATTAATTGTCGGTACATTAACAGGAGGTCCTATTGCCGGTGCTTCCATCTTAGCTGTATTAAACATATATCGCTTTTTATTAGGCGGAATTGGTGTCTTTCCATCCCTTATCGCCTCGGTTCTACTGTTTATCGTTCTACTGTTAACATACAAACTATTTAACCGCAGTTCTAATCGTATAAAAATAGCACTCGCTATCTTTTACAGTCTCATATTTGGCTTGGGCTGGATACCATCTTTCCTTTCAGAGGTTACAAATAGCGCAGATTACATACCACATATTATCGTGTACGAAATATGTACAATAATTGGAACAATTCTTATCTTATATTTGCTACATATACTACAAATGCAAGTTCGTCTTCAAAACGAACTTATGAATGCTGAAAAATTCCATTTAATCGGCGAAATGGCAGCGTCTATCTCTCATGAGATTCGCAATCCATTAACTTCAACAAAAGGATTTTTACAACTTTTGCAGTCAGATACATGCACTGAGCAAGAGCGAAAATTATATATCGACATAGCCATCAACGGAATCGAACAAGCAAATCATGTTCTTACAGACTGCTTAACTTTTGCGAAACCAAGTATTGAAAAAGAACAACAATTACAAGTAGAGGAAGAATTATTGCATGCCTTATCTTTAATCACACCTCTTGCTAATTTAACAAATGTTCGTATCCACTACATCAAACAAAGTACATCTTTCTTTATTGCTGGTGAAAAACAAAAACTGAACCAATGTTTATTAAATATTTTCAAAAACTGTATTGAGGCTATGCCTACAGGCGGTGATCTCGTACTTACTTTAGTTCCAGAACATAAACATATACAATTGTATATAAAAGATACAGGAATTGGTATGGATCAAGAACAAGTAAAACGCCTTGGATCCCCTTTCTACTCAACAAAAGAAAAAGGCACTGGTCTTGGAATGATGGTCGTATTCAGTGTTGTGCAAGCTATGAACGGAAAAATTGATATTATAAGTGAAAAAGGTACAGGTACAACTTTCTTATTAACTTTTCCACTCATACAAAAAACGTGA\n",
      ">OMX_gene_39594227e62a141edebfe3e13ab055c4|Sporulation protein YjcA\n",
      "ATGTTTCCCCCACAAAATGAATTTACCTTATTTATCATATTAGGCTTGGCTTCCTTCAGGCTGACACGCTTGATCGTTTTCGATAAAATCATGGAGCCGCTGCGCAGCCCCTTTTTTAAAGAGATAGAGGNNNNNNNTGAAGAAGGAGTTGTGGAAATATTTTTAATTCCGAAAGAAAAGGGCCTGCTTGGCTGGATTGGTCAATTGCTAAGTTGTTTTTGGTGCGTGGGTGTCTGGGTCAGCCTTTTTCTGGTTTTCCTTTATATCCAAAATTGGTTTATAGGCGATGTACTGATATTAATCCTTGCCGTTGCAGCAGTAGGAGCGATAATTGAGGTCATAATCAGCAAAATTATGGACATTTGA\n",
      ">OMX_gene_4e803d52fe7a74f0b51800f92544014b|Sporulation kinase A\n",
      "ATGCCGATGAGCTTTAGTCTCACCCAGATGCTGCTGATCAGCGCCGCCTACCTGGCTGCGTTATTCGGCGTGGCCTGGATCAGTGAGCGCGGAATGATTCCGCGGGCGATCATTCGCCATCCGTTGACCTACACCTTGTCCCTGGGCGTATACGCCAGTGCCTGGGCGTTCTACGGCACGGTGGGGTTGGCCTATCAGTACGGCTACGGCTTTCTCTCCAGTTATCTTGGGGTGTCGGGCGCGTTCCTGCTGGCGCCGGTGCTGCTGTACCCGATCCTGAAAATCACCCGGACGTACCAGCTGTCTTCCCTGGCCGACCTGTTTGCCTTTCGCTTTCGCAGCACCTGGGCCGGCGCGCTGACCACCATCTTCATGTTGATCGGCGTGCTGCCGTTGCTGGCCCTGCAGATCCAGGCGGTGGCCGACTCCATCAGCATCCTGACCCGCGAGCCCGTGCAACATCGGGTTGCCCTGGCGTTCTGCGCGCTGATCACCTTGTTCACCATCTTCTTTGGGTCTCGCCATATCGCCACCCGCGAGAAACACCAAGGCCTGGTGTTTGCGATTGCCTTCGAGTCGGTCATCAAACTGATCGCCATCGGCGGCGTTGGCCTTTATGCGCTCTACGGCGTATTCGACGGGCCGCAACAGCTGGAGCTGTGGCTGCTGCAAAACCAGACCGCCCTCGCCGCCTTGCATACCCCCTTGCAGGAAGGCCCATGGCGTACGCTGCTGCTGGTGTTCTTCGCCTCGGCGATCGTGATGCCGCACATGTACCACATGACCTTCACCGAGAACCTCAACCCGCGCTCGCTGGTCAGCGCCAGCTGGGGCTTGCCGCTGTTCCTGCTGCTGATGAGCCTGGCGGTGCCGCTGATCCTGTGGGCCGGCCTGAAACTGGGGGCCACCACCAACCCTGAGTATTTCACCCTGGGCATCGGTATTGCTGCCAACAGCCCGGCCCTGGCACTGCTGGCCTATGTAGGCGGGTTGTCGGCCGCCAGCGGGTTGATCATCGTCACCACCCTGGCACTCTCGGGCATGGCGCTCAACCACTTGGTACTGCCGCTGTACCAGCCGCCGGCTGAAGGCAATATCTACCGCTGGTTGAAATGGACCCGACGCGCGCTGATCGTCGCGATCATCATGGCCGGCTACGCGTTTTATCTGCTGCTGGGCGCCGGGCAAGACCTGGCCAACCTCGGCATCGTCGCGTTTGTCGCCACCTTGCAGTTCCTGCCGGGCGTGTTGTCGGTGCTGTACTGGCCGACCGCCAATCGCCGTGGCTTTATTGCCGGGCTGCTGGCCGGGATCCTGGTGTGGACCGTGACCATGCTGCTACCGCTGGTCGGCAACCTGCAGGGCTTCTATATCCCGTTGCTGAACATGATTTACGTGCTGGACGACACCAGTTGGCACATGGCGGCCATCGCCTCGCTGGCCGCCAACGTACTGATGTTTACCCTGATCTCGCTGTTCACCAACGCCAGCGCCGAAGAAACCAGCGCCGCCGAAGCCTGCGCGGTGGATAACGTGCGCCGCCCGCAACGCCGCGAACTGCACGCAGCCTCGCCCCAGGAGTTCGCCACGCAACTGGCCAAGCCCCTGGGCGCCAAGGCCGCACAAAAGGAAGTCGAACAGGCACTGCGCGACCTCTATCTGCCGTTTGACGAGCGCCGGCCCTATGCCCTGCGCCGTCTGCGTGACCGTATCGAGGCCAACCTGTCCGGTTTGATGGGCCCCAGCGTGTCCCAGGACATGGTCGAAACCTTCCTGCCCTACAAGGCCGGTGGCGAAAACTACGTTACCGAAGATATCCACTTCATCGAAAGCCGGCTGGAGGATTACCACTCACGCCTCACAGGCCTGGCCGCCGAACTCGACGCCCTGCGCCGCTACCACCGCCAAACCTTGCAGGAACTGCCGATGGGCGTCTGCTCCCTGGCCAAGGACCAGGAAATCCTGATGTGGAACAAGGCCATGGAAGAACTCACCGGCATCGCCGCCCAGCGGGTGGTGGGTTCGCGCCTCAATACCCTGGGCGATCCATGGAGAGAGCTGCTGCAAGGTTTTATTAACCTGCCGGACGAGCACTTGCACAAGCAACACTTGGCCCTCGACGGCCAAACCCGCTGGCTCAACTTGCACAAAGCTGCCATCGACGAACCCTTGGCGCCAGGCAACAGCGGCCTGGTGCTGCTGGTGGAAGACCTGACCGATACACAGATGCTCGAAGACAAGCTGGTGCACTCCGAACGCCTGGCCAGCATCGGGCGCCTGGCGGCCGGCGTGGCCCATGAAATCGGCAACCCGATCACCGGTATCGCCTGCCTGGCGCAAAACCTGCGCGAAGAACGCGAAGAAGACGGGGAAATCACCGAAATCAGCGGGCAGATCCTCGAACAGACCAAGCGGGTGTCACGCATCGTCCAGTCGCTGATGAGCTTTGCCCACTCCGGCGCCCATCAGAATCAGGACGAAGCGGTATGCCTGGCCGAAGTGGCGCAGGATGCCATTGGGCTGTTGGCCTTGAACCGGCGCAATTTCGAAGTACAGTTCTTTAACCTGTGCGATCCGGACCATTGGGTTGATGGCGACTCACAACGCCTGGCCCAGGTGCTGATCAACCTGCTGTCCAACGCCCGCGACGCGTCGCCGGCCGGCAGTGCTGTACGTGTCAAGAGCGAGGCTTTCGAACACACGGTCGACCTGATCGTGGAAGACGAAGGCAGCGGCATTCCACAGAACATCATGGACCGATTGTTCGAACCCTTCTTCACCACCAAGGACCCCGGTGAAGGTACCGGTCTGGGCCTTGCACTGGTCTATTCCATCGTTGAAGAGCATTATGGACAAATCACCATCGACAGCCCGGCTGACACACAAAGCCAACGCGGCACCCGTATCCGGGTGACCTTGCCGCGTCATGTCGAAGCGACGTCCGCTGTGAACTGA\n",
      ">OMX_gene_32ca676ddb40e11a704ad385cad60161|Sporulation kinase E\n",
      "ATGCAGGACAAAATCATTAATCGTTTGATAGAAGACGAACATGTGCAGGCACCAGTGATTGGCATCGGTGTTTCGCCGTTTGAACAGCATCATCTTGAGGCNNNNNNNCAATCATTTCCGCATGAATTAAATGCCTCTTTTATTGTTGTGCAAAATCATGTGACAGGCGATTGTGTAACTGATTTGGAAGCACTTGTTTTACCGATTGGCTACAGGGCAAAGCCGATTAAGCATGGTGAGAAAGTCATGAAAAATACGATTTATGTTTGTCCGCAGCATGCAGCTGTGACATTGACAGAAGACAAACGGCTACACATAACAGAGCAGCATCCTACAAACAAGGCGTGTGCTGTAAATTCGTTGTTTCAGTCACTTGCCAATGTGCAAAAGGAAGAGGCCTATGCGATCTTTTTTCAAAAAGGCTATTGTGTAGGAAGTGGTTTGCTTCAAATCGTTGAGCAAGGCGGTACAGCCATATCGTGCAGTGAGACAAATAGTGGGTTTGATCGTATGTATCATCAAACATTTCAAGACCCTTCTGCACTTGCGTCATATATAGCCAACATCATCAACGTTCCGCATACAGATGTTGCAGACCCTGTTTTGATCAGAATGATTGAACGTCTTGAAATGCATAAAGGAATTGCTTTTTCAACCTATGAGAAGCGCAGGCTGCTCTCTGTCATTCAAAAAAGAATGAGGAGTGCGAACCAATCGATCTCCTTATTGTCCGAGTACGATCGTTTATTAGAGAGAGAACCAGATGAGCTTGATCGCCTGCATGTACAGCTTTTAAGCGGAACGACTTCCTTTTTTAGAGATATGGAAGCCTTTCGAGTATGTGAACATCACATCATTCCGTCGATCATTGAAAACACAATGAAAAATGGGAAATCTCGATGCCGCATTTGGATTGCAGGATGTTCTACAGGTGAAGAAGCCTATTCTTTTGCGATGTTATTTTTAGAAGAAATGAAACGAAGACAAGTGTCCATTGAACTTCAAGTGTTTGCAACAGACATCAACCGGAAAGCCATCCAAATTGCAAGCAAAGGTGTTTATTCGCTTGAGTCTATGGCACGGATGCCAGAAAAATGGAGGGCGCGATATTTCGNNNNNNNNGGTGACGCTTTTATTGTGAAGCAGTCGCTTAGAAAACATATTGTCTTTGCTCCTCACAATTTATTGATCGATTCACCTTTTATCCACCTCGATTTTATCAGTTGCCGAAATGTTCTGATGTACTTCCAGCCAGAAGTACAAAAACGAGTCTTATCTCGATTCCAATATGCACTAAAGGATCAAGGGATGTTGATATTAGGACCGAATGAAAAGGTACCCAATATCCCTCGTTTATTTCATTTGTTAAATGAAAAGTGGAACATTTACACCCACTCAAACGTTCCTAAATACAATGCAGGTCATACGGAGTTAAAAGAACGAGCTGTCCAATTTATGAAAGAAGTAGAGCAGGAGTATGATGCATGTTTCATCATAGACGATTGCGAGAAAATCCTCGCGATATCAAACGGTGCCTATTCTTTCTTAGCGCCTGCAGAAGTCTCAGATGAATTATGTGAATATGTAACCCCTGATTATATGAAAGAGATACTAAGTCAAAGCTTTCAAAAGGTATGGACTGAAGAGACTGAGGTTGTTTTTCAACATGTCCTCATTTCGGAAAATGGAAGAAAGCAGTATGCAGATTTTACAGTGAAACATTTTGATCGCCGTTTTAAAGGAGTATACGTCATTCTCATTCGGAAGAGTGAGAGAGGAAAAAATCAAAAGAACGGCAGGGACAAAGGGATGTTAGAGCAGAATTCGGTTTATCAACAGCGAATTGTCGATTTAGAAAACGAGCTCAATGAGGTCAAACAAAAGGAGCAAGAAGCAAGGGCTCAATTAAAAGNNNNNNNCAAGCAAATAGAAGTGCGCGAGAAAACAAACGAGCATTTTATTAATATCATCAACAACTTGAAGGTGACAAGAGAAGAACTGTACCGGCCGTCTGTGAAGCCAGAACTTGCCACGTTGTTTGTGGACCGGGAAATGAATATTCGCTATCACACTCCTACAGCTACCTCTTTATTCACTTCAGCTCAAACCCGGCACCAGCAAACGTTTCAGTCGATGGTCAAGAAGTTATCGAAGGAAATGCTCTATCATGATATTCAATCTGTCATTTCAAATAGGCGCGTGATCGAACGTGAAATTGAAACAAACGAAGGAGAACAATTCACGGTTCATATGACGCCTTTCTATGATCAAGATCGCGAGGGAGCAGTGATGACCTGGATCAAAATGACCGAAATGACGAAATTGAAGCAGGCTCTTCATCTTGCGGTGACAGCACTTGATAACAGCCATATTCATATTGTGGTTGCAACAGGAGAAGGTGTCATTCAGTGTGTCAACCAGCGCTTTTGTCAGTTTGTACAGCAGCATGAATATGACTTGATCGGAAAAGATATTTTTTCTGTCTATTATGCGTTGTGTCAATGTGATGATCTAGTGAAACAATGGGACGTGTGTTTAAGAGATGGCAGCTGGACAGGTGAGTTGTATTTTCAGGACTTATCAGGGCGTGAGCGATGGGAAAGAGTCTCTTTACACCGAATCGATGACCCTGACAAAATGCAGTCTACTGTCATGCGGATTTCGGAGGATATTACAAGTCAAAAACAGTCTGAGAAAATGCTGATGAAGTCTGAAATGCTGTCAGCAGTTGGACAGCTTGCAGCTGGTATTGCCCATGAGATACGTAACCCACTTACGTCGTTAAAAGGCTTTTTACAGCTAATGATTCAAAGTAAAAAGTATCAGAAGGATTATGCCGATGTGATGATGTCAGAGTTTAATCGGCTTGAGTCTATTATTAACGAATTCCTTGTGCTCTCTAGAAGCAAATCTGTTAAATTTGAACCGGTGAATGTGAATCTTCTGCTCGAAGAAGTCATTATGGTCGTTGAATCTCAGGCGGTCTTAAAAGGAGTGTCGATTCAAAAGAATCTGGCGCCCTCTCTGCCACATATTCAAGGCATTCCAAATGAACTAAAACAAGTGTTCCTTAACATTCTTAAAAATGGAATTGAAGCGATGGATGGAGTAACAGGTGTGATCCAAGTGACTTCATTATTGAAAAACGACCAAATGATGCTGATATTTGAAGACCAAGGAAAGGGCATACCAGAAGACGAGATTGGGAAATTAGGTGAACCTTTTTACACAACGAAAGAAAAAGGCACGGGTCTTGGATTAATGATGACCATTAAGATTATTGAAAGCCATGGCGGTACCATTCGTTTTGAGAGCAAAAGCTTTGAAGGGACACGTGTGATTATTACGTTTCCAAGTAATTGA\n",
      ">OMX_gene_0a5d47e939f9d2a10ccdb90646d49960|Sporulation protein cse15\n",
      "ATGAAAATATCCGGTCCGTTTTTCCACGACACTTCTCAAGAGAACCTTTACTTGAAATCCGAACTTTCCAGATGCAGAAAATTAATTTCAGAATTTGAAGCAAGCTACTTCCATCAGAAAAATAATAAGCTTCAGGAAGAAAACGCCAATATTAAAGAGCGGCTTCACAAGCTTTCTGACGAATTGGAAGCCATGGCTCAAAAACACAAACAGACAAGTGACACGGAACGTTCTTTGCATGAAATCAGAGCCGGGCTGCTCGATAAAATCGTCATTCTGCAAGAACTGCTTCAGCAGGAAACGTTTCGGCGGAAAAATGAGATGGAAGAAAAGCACCGTCTGCATCTTACAAATGTAAAATTTGAAGAAGAAATTAAAAACTTACATACCCGCATCCGCTCACTTGAGACCGCCATTCAAACTGAACGGACTTCTCACGAAGATATGAAACAGCGTTATCATGCCGCTGCAGACGAAAATACCCGGCTCCAAACACAAATGATAGAAAAAGAATACCAGCTTAAACATATTAAAATAGAAATTAATCATATGAGAGATCGAATACTAGAAACAAAAGAACGGCTTGTAGAAATAGAAAAAACGAAAGAAAAGTTATTTCAAGAAACCATTCTTTCGTATAAACGGCAGCTGGACGAAAGTGATGCTTGGATTGCCGGCCATTTTGCTGATATTGACAGCCGCACGGCGGAACCGGCGGAACAAGCTCTGGAAATCCCTTCTGTTTCCAAAGAGACTGTTCAGGCAGAAGACTTGCTTAAAGCCGTTACCGAACAAGTCATCTCCCTGCAAAAACAATTTGTACAATCAGAGTCCCGCGATCAGTCGTTTGATGAAAAACTGGATGCGTTGAAAGAACGTGCTGACGGCGAAAAGCCTTTCCAAAAATATGTCGTCAAGCTTGAAAAAAAGCCTGGAAAAGAGGCGTCACTTCCGCAGAATAAGCGGGAAAGCGCAAAAAAACTGCTTGAGTAA\n",
      ">OMX_gene_1a27fade781344c2f929996f84eacc1e|Sporulation kinase A\n",
      "GTGTCATTTACCACTGATGATCAAGAGCGCACAAAATCCGTATCTGAAAATACCCCACATGATTTAGTATTAGACCAAAATATTGATGTGAAATGTCGTTTTTCCTTAGAAGGCACTTACTTACAAGTATCCCCCAATTGTGAATATTTACTAGGATATACAGAACAAGAACTCATTGATCAAAACTACCAAGACTTCATCCATCCAGTAGACCTAAAAAAGTTGCATATGCAGCTAGAAAAAATGAACGACTCAATCGAAACTTTTAACTTTCGCATTCAACATAAAGACGGACACTATATTTGGATGGAAACAACTGTTGCCTTCATCCCCCACCCTGAGACAAAGCAGTATGTTGAAGCTGTTGCTGTTGCAAGGGATATTAGCCATCGAAAAAAAACAGAACAGCATATGATGGAATCAGAAAAGCTCTCTGTCACAGGTCAGCTTGCAGCAGGAATTGCCCACGAAATTCGAAATCCTCTTACTTCTCTAAAAGGTTTCTTACAACTATTAAAAATGGATAATGATCACCGCGATGACTTTTTTAAGATTATGGAATCAGAATTAACAAAAATCGAAACGATTTCAAATGAGCTTATGGTTTTAGCCAAACCAAAACAAACAGATTTTAAATTTCATCGCCTTCAGTCTTTACTAGAACACGTTATTATGCTGCTAGACAGCGAAGCTTTTCGTCACTCCATTAAAATTGAACAAGAATTAACAGAAGAAAGCTTATACGTATACTGCGATGATACAAAATGTAAACAAGTGTTTCTCAACATCTTAAAAAACGCCATCGAAGCCATCGAACAAGATGGGAAAATTAATGTTAAAGTATTTAAAGAAGACGAACATACAGCCGTGATTGAAGTAAAAGATAACGGATGCGGTATTCCAAAACATCTTCTCAAAAAGCTCGGTTCCCCATTCTTTACAACAAAGAAGACTGGAAATGGACTTGGACTCATGGTTTGCTATAAAATTATTGAGCAACAGAACGGAAGTATCTCAATTGAAAGTGAACCAAATGAAGGCTCAACATTTACGATTCGCCTTCCCCTTTATATGGCTTAA\n",
      ">OMX_gene_9c726437526fe5d517d30b242f9d972f|Sporulation transcription regulator WhiA,sporulation regulator WhiA\n",
      "ATGAGCTTTGCATCAGACATGAAAAATGAATTAACACGTATTGAAGTTGATGAAGCAAATGCTAAAGCAGAGCTCAGTGCATTAATTCGTATGAATGGCGCACTTAGTTTATCTAATCAACAATTTGTAATTAACGTACAGACTGAAAATGCAACGACAGCACGACGAATATACTCTCTTATTAAACGAATTTTTAACGTAGAAGTTGAAATATTGGTTCGAAAAAAGATGAAACTAAAAAAGAACAACATTTATATTTGTCGTACAAAAATGTTAGCGAAAGAAATCTTAAATGATCTTGGAATACTTAAAGAGGGCATCTTTACCCATGAAATTGATCCTGACATGATTAAAGATGACGAAATGAGACGAAGTTATTTAAGAGGAGCCTTTCTTGCTGGTGGCTCAGTAAATAATCCTGAAACATCTTCTTATCATCTCGAAATCTTCTCGCAATATGAAAGTCACTCAGAAGGTTTGACTAAATTAATGAATAGTTATGAATTAAATGCAAAGCATCTTGAACGTAAAAAAGGTAGTATTGCTTATCTAAAAGAAGCTGAAAAAATTTCGGATTTTCTTAGTTTAATAGGTGGTTATCAAGCGTTACTGAAATTTGAAGATGTGCGCATTGTTAGAGATATGAGGAATTCTGTGAATCGGTTAGTAAACTGTGAAACAGCGAATCTAAATAAAACAGTGAGCGCAGCCATGAGACAAGTTGAGAGCATACAACTTATTGATCAAGAAATTGGTTTGGATAACTTACCAGACCGATTGAGAGAGGTAGCTAAATTACGAGTTGAACATCAAGAGATATCATTGAAAGAATTAGGTGAAATGATTTCAACTGGGCCAATATCTAAGTCGGGTATGAATCATCGACTAAGAAAACTTAATGAACTTGCAGATAAAATACGTAATGGAGAACAAATCGAAATGTAA\n",
      ">OMX_gene_15714a6bb17732e9114cd07e9ecfebf4|Sporulation kinase E\n",
      "ATGAACCCATATCAACAGAAAAAACGTTGGAAATATTTGCTCCTTGCATTTGCCGTTGTAATTGCAATTGGCTCATTACTTTATACCCGTTACCTGGTAAAAAACATTGAGCGTTCGGAACGTACCCGCGCCCAGGTTTGGGCCATAAGTATGCGCCAGATACTTGCCTCAGATGATAATGATTTTTTAAACTATGTAATAGCCGTGCGTGATAGCCTCACCGTGCCCGCTATTGTAACTGACGAAAAAGGTGAAATAGTTTTACAGCGAGGTTTAGACACCACAAAGACTTTTATTAAGCTGGAAGCCGAAAGCAATAAAAAGAAAAAATATGATCCGGCTTATTTTAAAGAGGAGCTTCAATATATGAAGGGGCAGCATGCTCCTATTAAACTCCAGGTTTTGGGCGAAGAGAACTTTGTTTACTATAAAGACTCCCCACTGCTTACACAACTGCGCTTATTCCCTTATATCCAGCTTACTGTAATTGCTATATTTTTATTGATGGCCTATACCGCCTTCAGCTCGTCAAGAAAATCGGAGCAGGACCAGGTTTGGGTTGGCTTAGCCAAAGAAACGGCCCACCAGCTTGGTACGCCTATATCATCGCTCATTGCCTGGATTGAGCTAATGAAAGAGAAGTTTAATGCCGAAGATGATGTGCTGATTGCCGAAATGGAAAACGATGTAAAGCGCCTGGAAATAGTAGCAGATCGATTTTCGAAAATCGGCTCCAAATCCGTATTGGAAGAACATGGCGTGTATGCTGTAGTTAAGGATTTTGTTGATTATTTTAAAGTTCGCGTAAGCAAAAATATCAACTTCGAGCTTACCGGAAACCCTCATCTAAAAGCAGGACTTAATATTCCGCTGTTTGATTGGGTTATAGAGAATATCTTAAAAAATGCAGTTAACGCTATTGAAGGAAAGGGCAGTATCAAAGTAGAAATCAGCGGTAACAAGGTAAAAAACCAAATCTTTATCGATATTACCGATACCGGCAAAGGTATTCCCCGTTCTAAATTTGATACCGTTTTTCAACCCGGCTATACTACCCGTAAGCGGGGATGGGGGCTGGGCCTGTCGCTTACCAAACGTATAGTGGAAAATTACCACAACGGACAAATCTTTGTAAAAGACTCGGAAGTAGGCAAGGGAACAACATTCAGGATAATACTAAAAAACACGCGCAATGATAACAAAACCAAAACCAGGTGA\n",
      ">OMX_gene_385f910b33139734c8a32f25f120b623|Sporulation protein cse60\n",
      "ATGATTCGTGTGAAAGTGTTTGATGAAAGTCACGAAAAAGACTTAGAAGACGCTGTAAATGTTTTTTTGAAAAAGATTGATGATAGTAACTTTGTAGATATTAAGTACCAAGTCGGTGTTTCTATTAATGATGACGAAAACCAAATTTATTGTTTTTCAGCAATGATCGTTTATAAAGCATAA\n",
      ">OMX_gene_52f2df4511f4043577dcf4f364c3088f|Sporulation kinase E\n",
      "GTGAAAGAAAGTTTTCTATCATATAAAGAAGAAGAAAGGAATGCCAAAATCTTTTTATGGCTGCTATCTGTCATTGTTGTTGTATACCAAGTTCTTTATACAACCCTATTAGAAAATAAAGCACCAATGGAAAATTTGCATAGAGGAATGTGGCAAGTTATATGCGGAGTAGCAATATTGTGCGTGAATATATATTTAATNNNNNNNNNNNNNGCAAATCTTATTAAATACGCTGGGATCCTCGTATACATAGGGATAGAAATCGCTAATATACTTTTGTATATGCTTTATAATAAGGCGGCATTTGATGGCACGAATGTAATAGAAATTATTCTCATTTTCTTTGTACCTATATTTTTAAATAAAAAATATTTTGTGTGTTTACTGGCGGCTATTATAGGGAAATATTTGATTTATTTATTTGTATTAGAGGAAGTAAAAGCATTCATGTTCCTTATTATGTACACACTTGTATTAATAGCTACATACATCATTTTAAATCGATTCTTGCAATATCTTTCAGCGGTAAAGGAAAGTATTAAGATTGCTAGTGAATCACAACAGTTAGCAGTAATCGGAAAAATGGCAGCGACAGTTGGACATGAAATTAAAAATCCACTTGCTTCATTAAAAGGATTTACACAATTACAGCGAGAGAAGCATGAGGAAGATCCAATTTATAAACGGATGATTCTTGAAATAGAGAATATGAATAATATGATTAGTGAATTGATGGAAGTTGCTACATGCAAACCCTCTGTTTATAAGCAACATGATGTAGGAGAGATTGTATTACAAGCAGCAGCAACTCTTCGTGAAAAAATGTGTGAGTCAAATGTTCAGCTTATTTCTAATGTGGAAGGAAAAAAGATAGAGATTGAATGTGATGAACGAAAAATAAAGGGCGTATGTATATATATTATAAAAAATGCTCTGGAGGCAATGGAGCAAGGTGGAATATTAGAGTTACGAATAGAAAATAAAGATCAAGATTATGTAATGATCAGTATAATTGATAATGGCTATGGAATTAAGGATGAATATATAACGCTTGTTAAAGAGCCTTTCTATACAACGAAACACGATAAAATTGGTCTGGGACTTACGGTAGCAGATCGAATTGTTACTGAGCATCTTGGTGAATTACATATTTTAAGTGAAAGAAATATTGGAACGAGAATAGACATTTCTCTCCCAAAAAAGTATGAAAATAATGAAATACAGGTAGAGGAAAAGCTAGGAGTTACCATATGA\n",
      ">OMX_gene_0b838cfc721bbb2bbb761521d40352fb|Sporulation kinase E\n",
      "ATGGAGGAAACTCTTGATTTGAATGAATCCTTAAATCTGCAAAACCAGCTGAACAGACTGAAGAAAGAAAACGCCAAGCTGAAAGCGGATTTGTATCAGTATGAGCTGCTGTTTAACGGGACGCTGGACGCTATTTTTATATTGGATAAACAGATGAACATCATTAAGGCGAATGATGCCGCCTGCAAGATCCTGCAAAGCCAAAAAAAGAATTTGCTGAACCGGTCGGCGCTCGACTTCCTGCACGCCGTTCCGCCGGATGAACTAAACCAGAACATTCACCGCTTCTTAGAGCGGGGATATGCGAAAAAAGAAGTGGCCATCAGGCTTGACAACGGATCTGTCAAATATATCGAATTTACCGCAAGCAAAGGAATCGGTGAGGACTGCTTTTTTGTCGTCATGAGAGACATTTCGTCTAAAAAAATATTGGAGCGGGAGCGCACCATCAATGAAAAGCTGTTTAAAGATTTGTTTCACCGCGCGGTTGAAGGAATCGTCATCTTTGATAAACAAGGCTGTTTCATCGATGCAAACCATTCGTTTTGCCAGAGCTTCGAAATTGAAAAATCAGAGCTCTCAAAACTGAAGCTGTCTCAATTCGTATCGCCTGAAAACAAGGGGCGGCTCGATAAAATCTGGAACGCTCTTTTCAGAAGAGGGAAGGCAAAAGGGGAGCTTCCTGTCCGCCTCAGATCAGGAGAAGACAGGCTGTTTGAGCTGACGATAACCTCGAATATTTTAAATGGCTTTTACATGTCGATTATGAGGGATATTACCGAAAAGCGCTCAATGGAAAAACAGCTGTTTAAGAGCGAAGAACGCTTTAGGGAAGTCTTTGAAAATGCGATGGATGCCATCATTCTGATGAATAACGACGGCCGCATCGTCAAAGCGAACCAGTCGGCCTGCAAAATCTTCGAACTGCCGATGGACCAGCTGCTCAACAAGAAGATGACTGATTTTATAGATCGAACCGATCAGCGGTATCATGCCATTCAAAAGCAGTACGATCAAAAAGGGGAAATCCGGGCGGAACTGCTGTTTCGTATGGCAAACGGACAATATAAGGAGCTTGAGTTCACATCAAAACGGATTATGTTCGACAGCCAGGACTTAACCATTTTGAGAAATGTCAGCGACAGAAAACGAATGGAACAAGAATTGCGGGAAAGCGAATTGAAGTTCAGAAAAGTATTCAACGGATCAATGGACGGAATCGTTCTTTTCAACAACCAGTACGATATTATCGATGCGAACCCCCTTGCCGGAAAAATTCTCAGCATCCCTCTTGAACAGCTGAAAACGTCCAATCTTCTTGATGTCATCTCCGGCTATCACATCGAAAACGCGGCTTCTCCCGCTAAAACGATTTCCTTTGAAGAAATGGACAATGATATCCCATTCCTGCTGAGCGACCAAAAACGGATACTTGAATTTTCATTTAAGCGAAACATCATTCAAAATATGAATCTGGCGATGCTCAGAGACGTGACGGAACGAAAAGAGCTTGAAGAGCGGCTCCGCAAGTCTGATACCCTCCATGTCGTCGGAGAACTCGCAGCCGGAATTGCTCATGAAATCCGCAACCCGATGACGGCATTAAAAGGATTTATCCAGCTGCTGAAAGGCAGCATCCAAAATGAGGATCACGCGCTTTACTTTAATGTCATCACATCAGAGCTCAAAAGGATTGAATCCATTATTACGGAGTTTCTCATCCTTGCAAAACCGCAGGCGATTATGTATGAAGAAAAAAACATCGTCAAAATCATGCAGGACACAATGGATCTGCTGCATGCGCAGGCAAACCTTGACAACGTCCAGATGCATCTGAAGTGCGAAGACGGCATTCCGCTGATCTACTGCGAGCCGAATCAGCTGAAGCAGGTATTTATCAACATTTTGAAAAATGCGATCGAAGTAATGCCCGACGGAGGCAATGTATATGTGTCGATCAAACCGAAAGGAGACGACCATATCATTGTCTCGCTTGCTGACGAAGGAATCGGCATGACAGAAGACAAATTGAAGAGGCTCGGCGAACCTTTTTACACGACAAAAGAACGGGGCACTGGACTCGGGCTGATGGTCAGTTATAAAATTATTGAAGAACATAAAGGAAAAATCGAAGTTGAAAGTGAAGAAGGGAGAGGCACGACATTCCACCTGACTCTCCCGATCAGACAGCAGCATGAGGAGGAGGCTTAA\n",
      ">OMX_gene_0d9d82af6be4e937d310d8e9cc6446cd|Sporulation protein YjcA\n",
      "GTGACCGGAACGGCCGAGGGGGGTGCCGTGTCCCGGGTGAAGGGGATGCTGCGCCGCGTCGAGGACACGTACGCGGAGGACGGCGACCGTCCGATCCGCGGTTATGCCGTCGCCATGTCGGCGTTCGCCGCCTACACCACGGGCTGGGCCCTGCTGGTGCGGCGGCGGGGCCGCCCGCTGCCGGACCGGCCGGCGCCGTGGGACGTGGCACTGACCGCCGTCGCCACGTTCCGGCTCAGCCGGCTGCTGAGCAAAGCGTCGGTGACCAGCCCCCTGCGGGCCCCTTTCACCACCTTCGTCGGTCCGCAGGGGCCCGCCGAACTGCACGAGGAGGCGCGGTCCGACGACCGCAAGGCCACGGTCGGCGAGCTGGTGACCTGTCCCTTCTGCGTGAGCGTCTGGGTCGCCTCCAGCCTCACGGCGGGGCAGCTCCTGTGGCCGCGCGCCACCCGCACCGCCATGGGGGCCCTGACCGCACTGGCGGGCGCGGACGCGCTGCAACTGACGTACGGCGCCCTGGTGGACAGAACGACCGGTGAGTGA\n",
      ">OMX_gene_48935a274bcb4fd3b88cd36b01172300|Sporulation kinase E\n",
      "ATGGAAAAAGGCAATATATTTGAAAAAGAAGAGATAAAGGCATTAATAATATTTTTAAGCTTATTCTTCGTTATATTTTTTGCGTATGATTTTGCTGAAAAAGTTATTGTCCTTTTATCAGATAAAAATCAAAAACTAGCAGATGCTTTTGGAGAAGGATTAGGTTTATGGCTATATAGTTTGATGGTTGGATTATTCTTTATAGGATTTTATTTTATGAAATGGAAAAAGCCGTATATTGTGAAGTATATTATTTTAATTGGCTATAATATATTGGATTTTATTCATAACTTCATTATTTATTACGGAAGTGATGCAGAATTTGATGGCGGGAATATAGTAGAAGGATTCTTTATTTTATTTGCACCGATATTTGTGAATAAGAGGTACTTTTGGTTAGTTGCCGGAACTATTGTTGGAAAATATGCACTTATGGGATTCGTTGTTCAATCCCTTATTGTTCTTATCCCAATAGCATTATATAGCGTGTTTGTTATTATATGTTGGATTATATTTTTAAGATTCCAATCTTACGTTCGTACACTTGAAATGATGGATAAAGAAATACGAAATGTAGAGAAATTGGCAATGGTTGGGAAAATGGCGACAGTAATTGGCGATAAGATTAGAAGACCGTTAGAAAAATTGAAAAAACTTGTGAATAAGCAAGCGAAAAAATATCCAGAAGATAAAATTTATAGTGAAATTATGAGACAGGAAGTAGAGCGAATTCATACAATTGCTACAGAACTAAATGGGTTTGAGAAATCTAAATCGGTAGAATCCGAAACGCATAATATTAAAGAAATCATCTCTTATGTTATCAGGGTTATGGAAAAGCCAGCTTTAGAACAAGGGATAAAAATGCATGCTATTTATAGTAAAGATATACCATCAATTACATGTGAGGAAAAACGATTGAAACAAGTATTTTTTAATTTAATAAAAAATGCGATTGAAGCAATGTCAGTTGGCGGAACTATTACTGTAAAAGTTATAGTGGAAGATGTGATCATTGTTCAAATTATAGATGAGGGATGCGGCATTCCGAAAGATAAAATTCCGAAGCTAAATGAAGCTTTTTACACAACGAAAGAAACTGGAACAGGCTTAGGATTAGTAGTTACGGAAAAAATTATTAAAGATCACCACGGTAAATTGAACTTTGAAAGTGAAGTTGGAGTTGGAACGACTGTTGAGATTATGTTGCCGATTTAA\n",
      ">OMX_gene_0fc7fe46070a0955a942afe4373e4f2a|Sporulation kinase E\n",
      "ATGTCGATACGCTTAAAGACTATGCTTGGTGTGGCGTTGATCGAGGCCTTGTTGCTGACGATTTTGATCACCTTCACCCTAAGCTATCTTGAGTCCACCAACTATGAGGGATTACAAAAGCGCGCCCAAACGACCATTGCTCTGTTTACCACTATGGTGAAAAACCCAGTACTGGCTTACGATTTAGCCAGTATCGACTCTATCGCCACGTTAATGATGTCCAATCAAGATATTGTCTATGTCGCGGTCGAAAATCCCCATGGGAAACTTTTAACCTTTAAAGGTGACCCTACTTTATTCGATGCTTACCACACGATTAACGATCGAGATTTTTCTAAACTCCAATCCATCTATCCCATCACGGATGTGATTGAGGTGAGCGATACCCTGTTTGGTACCGTATTTATCGGTTTTGACCTCTCTTATCTTGAACAGCAACTCGCCCACGCCCGTAAATGGACACTACTGATTGTGCTAGGAGAAATGGGCTTAGTTGCCCTGTTCTCTTACTTGTTAGGGAATGCCTTAACCCGCCGTTTAACTGAGCTCAAAACCGCGACCGATCAAATCACTTTCGGCAATCGTGAAGTCCTGCTTGAAATTCAAGGTCATGATGAAATCAGTCGCGTTGCCCGCTCTTTTCAACAAATGGTGCAATCACTACGTCACTCAGAAGCGACCATGCGAGATTACCAGCATCAACTCGAGCAGTGGAATTTGGAGCTTGAAGATAAAGTGAACCAGCGTACGGAAACTCTACTTGCAAAAAATCAGCAACTTGAAGAGATGAATACCAAGTTAACCTTGATGAAAGATAAGCTGGTCGAAACCGAGAAAATGATTTCGATCGGTACATTGGCCGCAGGATTTGCCCATGAAATTAACAACCCAAACGGCGCACTGAAAAGCCATTTACAGTTACTTCAACAAGACTTTAACCAGATTAAAGTAGGATTTGAACAGATTGATTCACTGCTTAGCGGAAGCGATTATCACGACAAGTTTACTCAAACCAAAAATGCGCTTTATCTCGAAGAGAGTTTTTCTGGTATTGAGGAAAGCCTTAAAGATGCACTGCACTGTGTTGACCGGATAAAAACGATAGTCGATAAAGTTCAGCGTTGCCAAGCCGAACCCGCGCCCCATGACAGCAGTTGGGTTTCTCCACTCAGCTTAGTGGAACAAGCCATTCAAATTTGCGGATTGCGAGAGTGGGTAGTCTGGAAAGAACAAACCCTCTATCCACCGTTGATTTATTGCTACAGCAACGATTTTGTGGCCGCGTTGAGTGCGATTTTAAATAACGCTTATCAAGCTTACGCCTCCGATGACCCGATGATCCGTATCGAACTTTCGCTGCGTCATGATCATCAACAGTTACAAATTGAGGTACGCGATTTTGGCCGCGGTATGAGTATCGAACAAAAACAGCACGCTTTTGACCCTTTCTTTACCACTCATGATGTGGGTAAAGGCGTAGGCCTCGGTTTAACCGAGGCCTACAGCAGCATCAAAAAATACGATGGCGACATACAACTCTTTAGTGAACTGGGACAAGGCACCCGAGTGTTAATTACTCTACCGTTAGCCCCCAACAAACCGTAA\n",
      ">OMX_gene_21386efa745b67f403972b6f68d81b7e|sporulation regulator WhiA\n",
      "ATGAGCTTTGCATCAGACATGAAAAATGAATTAACGAGAATTGAAGTTGATATAGACAACGCAAAAGCAGAGCTCAGTGCCTTGATAAGAATGAATGGTGCACTTAGTTTGGCTAATCAACAATTTGTAATTAATGTACAAACAGAGAATGCCACAACAGCTAGAAGAATCTATTCATTAATCAAAAAGATATTTAATGTTGAAGTTGAAATTTTAGTGCGTAAAAAAATGAAATTAAAGAAAAATAATATCTATATATGTAGAGTTAAGATGAAATCTAAAGAAATTTTAGATGACTTAGGCATTTTAAAAAATGGTATTTTTACGCATGAAATTGACGAAGCTATCATTGAAGATGATGAAATGCGTCGTAGCTACTTAAGAGGTGCATTCCTAGCTGGAGGTTCAGTCAATAATCCAGAAACTTCATCCTATCATTTAGAAATTTTTTCATTATATGAAAGTCATTCAGAAGGTCTAACAAAATTAATGAATGGCTATGAATTAAATGCTAAACATTTAGAGCGTAAAAAAGGAAGCATTGTCTATTTGAAAGAGGCTGAAAAAATATCTGATTTTTTAAGTTTAATCGGAGGTTATCAAGCACTTCTCAAATTTGAAGACGTCAGAATTGTCCGTGATATGAGAAATTCAGTTAACAGGCTCGTTAACTGTGAGACTGCGAACTTAAATAAAACTGTAAGTGCAGCAATGAAACAAGTTGAAAGCATCCGATTGATAGATCAAGAGATAGGCCTAGATAACTTGCCAGACCGCTTAAGAGAAATTGCGAAATTACGTGTAGAACATCAAGAAATTTCTTTGAAAGAATTAGGGGAAATGGTATCAACAGGCACAATATCGAAATCTGGTGTTAATCATCGTCTTCGAAAGTTAAATGAAATGGCTGACAAAATAAGAAATGGCGAAGATATAGATTCATTGTAG\n",
      ">OMX_gene_21d753ca089af51d7f67d6ac55c72689|Sporulation kinase E\n",
      "ATGAAAAAAACAGGACAAATGGCTTTAATCAGTGTATCCATATTATTTACTGTGATCGAATCAATTTTTTCTGATGAACGGTTTACAGAAGGAATAGGTGATTTTTTTATAGCGACTTTTATTGCCTGGTTTGTGGGCTGGCAGTACGACAAATTAAAATATGACCAGCTGCGGAGAAAGCGCAGTGAAGCAAATTACAAGCAGTTAATCGAGATGCTTCCCGAGTCGGTCATTATTCACCGGAACAATGTGATCTTATATGTAAACAAAGCAGCCGAAGCGATGCTGGGGGCCCGGAGAAAAGAGGAGCTCGAGGGGCGTTCGCTGCTGGAATTCATGGATGACGGCTACAGGAAGCAGGCCGCCGGCCACAGCCAAAAAGTCAGTCAAGAATCAATTTTCCTGCTGAATGCTGTGTACAGGCTGACATGCCTGAATTTACGAACGATTTTCTTTGAATTTTCTTCCCTGAACATTGTGTTTGAGGGCCAGGATGCTATTCTTTATATCGGGAAAGATATTACGGATAAACGAGAGCAGACGCAGTCTCTTCTGCAGAAGTCGGAAAAGCTGGCGGTGGTTGGCCAGCTGGCGGCCGGAATCGCACATGAAATCCGCAACCCGCTTACATCCATTAAAGGGTTTATTCAGATTGTACAGGCAGATATCGAGCATCGTGATCATAAAGAATTTTTAGGGATTGTGCTGGGGGAGCTGGAGCGGATTAATGCCATTGTTGGAGAGTTTCTCGTTCTTGCCAAGCCCAATGTGGTGAAATTCAGCCGGGTACATATAAAGCCGCTGCTTGATGATGTTGTATCCCTGATCAGCTCACAGGCGATTATGGATAATGTCCAGATTACGGTTGCCTGCACAGATGATATACCGGATATTATTTGCGAAGAAAACCAGCTCAAGCAGGTTTTTGTCAATATTTTAAAAAATGCGATTGAAGCAATGCCTGATGGCGGGCTGATTCAAGTGGAAATAAAAAAGAATTCGGATAAAAATGTGGCTCTCTCGTTTATCGACCAGGGAGTCGGCATTCCCGAAGACCGGATTCCGACTCTTGGCGAACCTTTTTACACGACGAAAGAAAAAGGAACAGGCCTCGGGCTGATGACCTGCCTGAAAATTATTGAAAATCACAAAGGAAGCTTTAATATTTCCAGCAGGGTAGGAGAAGGCACTACTATTGATATTGTTCTGCCGGCCGCCGCCCCGAATCTTCTCAAAAGAGACAAGAAGGCAGCATGGAGCTTAAAGGAAGATAGTACATTGGGCAGTTTTTAA\n",
      ">OMX_gene_0a8d9c4bc530c46ca9234ddf4143e727|Sporulation kinase A\n",
      "ATGAATACGAAATATATAATAATCTTCNNNNNNNNNNNNNNNNNNNNNNNNNNNNNNNNNNNNNNNNNNGCAAACTATAAAGACAATAAAGAGTATGTTTTAAATTTGACCGTCTCAAATCAAATAAGCATGGCTCAAAGCTATAAGACCAGGATAGACGAGCGTATAAGCAATCNNNNNNNGTTGCTGGAAGAGACGGCGAAATTTGTCAAGTCAAAAGATGCAGACAAGGACTACGACCTCATAAGGGACGTGCTTAGAATTTTGGCCAGAACGGCTGGATTTTCAGAGGTTTATGTGGGATATAGCGACACAAACAAGGTCATTTCAAGTGATAAATATGACATGATAAAATACTACTCAAACTACGATGTCAAGCGAAGACCTTGGCATCAGATCGTAAAATCAAAGCAGCAAACCTCCTTTACCGAGCCATACATAGATACGAAGCTNNNNNNNTACGTCATATCAATAGCCGTACCGATATATAAAAACAATAAACTCGATAATGTATTGGTTGGCGATTTTGAGCTAGATGCCTTTCAAAAAGAGATGGCTTCGTTTTTTCCTTCCAAATACGGCTCGGCTTTTTTGATGACGGACGGGGCTAAAATTTTAGACTCCACAAAGCAGATCATAGACTATACGGACGCTTATGTCGAGAAAATTTTATTTGCCATATACAATAAAAAACAAGGAAGCGGCAGGTTTTTGATAAATGGCAAAAAATATATCTTTGTATACGATATGATCGCATACGGCGAGTGGATATTCGTTTCTATATTAGAAGAGGATAAAATTTATGAAAATTTAAACGCAAAGACACTCAACAATCNNNNNNNNNNNNNNNNNNNNNNNNNNNNNGGCGTTTGTATATCGGTTTGGATGTATATTTCGCAAAAGAGGATCAACGATAACAAGCACTTTCTTAGCTTATTTTCCAAAAGCTCGATAAACGGACTGGTGATTACCGATAAAAATGGCGAGATAACGTTCATAAACAAAACTTTCGAGAAAATTTTCTCGCTGAAATTTAAAGAATTTATCGGTAAAAACATAAGCGAGCTATTTTATTTATTTAACGATGCGGATATATTTGAGCAAGTAAAAAGCGATACGAATAAAAATATCCTAGTCAAGAAAAATATACGAGACTGCTTTTATGGCATCCGCGTCATACCGCTTTTGGAAAAGGGCGATAAATTTGAAGGCGTTATGATAGTCGCCTATGATATGACGCATGAGACGCAACTTGAGATGAATAGGCAGCAGCAAGAGAGGATCTTGATAGAAAATTCTAAAATGGCGGCGCTTGGCGAGATGAGCTCGGCTATATCTCATCAGTGGAGGCAGCCATTAAATGCGCTTTTGCTGCTAGTAAGCGACATAGAGGCTAAAATAGAGCAGATTCGTATACAAGATAATGCAAAAAGCGAAGTACTTTCGCGACTTGGTGAGTCTAGGACAAATATAGAACTAATGGACGAGACGATAAATATCTTTAAAAATTTTTACAAGGAAAGCTTGCAGGAGACGAAATTTAACCTGCTTGACATAATGGATGATATCTTGTATATATGCAAGCCTCAAATCACGATAAAAGGCATACATATACAAGCTGATTACGAGATAAAAGACTACGAGATAACGAGCTATTCGTCCTATATCAAACAGGTTTTGCTAAATTTGATATCAAATGCAAAAGATGAGCTCGTAAAAAGGAAGCTACTTGATGAGAATTTTAAAGCTTATATAAAAATAAGTATCGTTGAAGAGGAAACGAGATATATTATAAACGTCGAGGACAATGGTGCTGGCGTGGGTGATGATATAAAAGAGCACATTTTCGAGCCGTTTTTCACGACTAAGGGCAAGGAGGGGACAGGTATGGGGCTTTATCTGTGCAAGTTGATTTTTGATAAGAAAATAAACGGAGATATCATTTTGAGCCATGCCTCGAATCCAACGATATTTTCAGTGGTGCTTTATAAAAATGGACAATAA\n",
      ">OMX_gene_05c86a0a0d8941dda1a01f56a9ba6b16|Sporulation kinase A\n",
      "GTGTATACTGCAGTCACGCTGGTAAGTGTCTGGATGCTGGCTTATTATATTGATGAGAAACAGCAGCTGGTTAAGAAAATGAAGGATAACGAATGGAAGTATAAACAGCTTTCTGAAGNNNNNNNCCGCATCATGGATAATTTGCAGGAAATCGTATTTCAAACGAATGCAAAAGGCGAAATTACATATTTAAACCAAGCGTGGGCATCAATAACCGGCTTTTCAATCAGTGAATGTATGGGAACAATGTATAACGATTACTTCATAAAAGAAAAGCATGTAGCCGACCACATTAACACCCAAATCCAAAACAAAGCGTCTTCTGGCATGTTTACGGCAAAATACGTGACAAAAAACGGCACGATTTTTTGGGGAGAAGTTCATTATAAACTTTACTATGATCGGGATGATCAATTTACAGGCAGCCTGGGTACAATGTCAGATATCACTGAGCGGAAAGAGGCTGAAGATGAGCTCATTGAGATTAATGAACGGCTGGCGAGGGAATCCCAGAAACTATCAATCACAAGTGAACTTGCCGCAGGTATTGCTCATGAGGTCAGAAACCCTTTAACATCTGTCAGCGGTTTCCTCCAGATTATGAAAACACAATATCCGGACAGAAAAGACTATTTTGACATCATCTTTTCAGAGATTAAAAGAATCGATTTAGTGCTCAGCGAGCTGCTGCTGCTTGCAAAACCGCAGGCAATCACATTTAAAACACACCAGCTTAATGAGATCTTGAAACAAGTCACGACATTGCTTGATACCAATGCAATTCTGTCTAATATCGTCATAGAGAAAAATTTCAAAGAGACAAATGGCTGTATGATTAATGGAGACGAAAATCAGCTGAAGCAGGTCTTTATCAACATCATTAAAAACGGAATTGAGGCAATGCCAAAGGGCGGTGTCGTAACCATTTCAACTGCTAAAACCGCCTCTCATGCAGTGATAAGCGTAAAGGATGAAGGAAACGGTATGCCGCAAGAAAAGCTGAAGCAGATTGGCAAACCTTTTTATTCAACAAAAGAAAAGGGCACTGGACTCGGACTTCCCATTTGTTTGAGAATCCTGAAGGAACATGACGGGGAATTGAAAATCGAAAGTGAAGCTGGAAAAGGCAGCGTCTTTCAAGTGGTTTTGCCTTTAAAATCAGACAGCTGA\n",
      ">OMX_gene_0589eb251659e3f0b2b13d163563b4e9|sporulation regulator WhiA\n",
      "ATGAGCTTTGCATCAGAAATGAAAAATGAATTAACTAGAATAGACGTCGATGAAATGAATGCAAAAGCAGAGCTCAGTGCACTGATTCGAATGAATGGTGCACTTAGTCTTTCAAATCAACAATTTGTTATAAATGTTCAAACGGAAAATGCAACAACGGCAAGACGTATTTATTCGTTGATTAAACGTGTCTTTAATGTGGAAGTTGAAATATTAGTCCGTAAAAAAATGAAACTTAAAAAAAATAATATTTATATTTGTCGTACAAAGATGAAAGCGAAAGAAATTCTTGATGAATTAGGAATTTTAAAAGACGGCATTTTTACGCATGAAATTGATCATTCAATGATTCAAGATGACGAAATGAGACGCAGTTACTTGAGAGGAGCTTTTCTGGCAGGTGGCTCAGTGAATAACCCTGAAACATCTTCGTACCATTTGGAAATTTTTTCTCAAAATGAGAGTCATGCAGAAGGCTTAACGAAACTAATGAATAGTTATGAGTTGAATGCCAAACATTTAGAGCGAAAAAAAGGAAGTATTACGTATTTAAAAGAAGCGGAAAAGATTTCGGATTTTCTTAGTTTGATAGGTGGTTATCAAGCATTATTAAAATTTGAAGACGTACGTATTGTAAGAGATATGCGTAATTCTGTTAACCGACTCGTTAATTGTGAAACGGCAAATCTAAATAAAACAGTTAGTGCTGCGATGAAACAAGTTGAGAGCATTAAATTGATTGATAAAGAAATTGGTATTGAAAATTTACCAGACAGGTTGAGAGAGATTGCTAGAATTCGAGTAGAACATCAAGAAATTTCGTTGAAAGAGCTTGGAGAAATGGTATCAACTGGTCCAATTTCAAAATCAGGTGTAAATCATCGATTAAGAAAACTTAATGATTTAGCCGATAAGATTAGAAATGGTGAACAAATAGAATTATAA\n",
      ">OMX_gene_090f93850b4336d1f6b9b83068f26cf1|Sporulation kinase E\n",
      "ATGCAATTTCCCTTAAATTCATCCTTGTCCCATACGATTTTTCGTTTGGGCACTTGGTATGGCTTATACCGTCTTATTATTGCGGTTAGCCTGAATATTATTTTAGTTTTAACCGATGCGCAAACTGATAACAGTTTGCAGCAACCTGCCTTATATTCCTACACACTACTCGGGTATTCCCTCTTAAGTCTTGTTCAGCTGTTATGCTTTAAATTTATTGCCACTCAAGCCACGCGACAGCTTATTTTATTTTTTATTGTTGATATTATTTGTTTGAGTTTACTGACTTTTTCTGTGGGTGAACCAAATTTACAACTCAGCTTACTCTATGTAATTGCCATCTTTACCTCGGCGATTTTACTCAGCGCAAGAATGTCTTTGCTGATTACATTGCTTGCGGTTATCGCTGTTATTTACCAACGATTTGTAGGTAGTCTATTTGACTATAACAATCTAAATACTATTGGTAATAGCGCTCTCTTAGCTTTTTTATTTTTTGTGGTTCACGGTATTGGCCAAATTGCTGTGCAGCGCTTTAAATTACTTGAAGCACTCACCTTTCACCAGTCAATTGAACTCTATCAACTCCAAAATATTAACCGTTATATCTTAGAACAAATTGAAGAAGGCTATTTAGTTTTAGATGAGAATTACGACATCGTTGTCAGTAATCCTGCGGCCTGTTCACTCTTGGGTATTCCCCCTCAATTTGCCAATGAAAAATATCCTTTAGCAAAGTGGCATACCGATTTATTTGAAATTTTAAAGTTTGGCGACTTAAAAGAAGGTGACCGATTCATTTTTGAGTCTCGGCTATCGGCGTACTCCATCAACATTAAAGTGCAACACCTTTTGGTCCCACAACAAACGCTAACCCTGCTCATTTTACAAGATGCCCAACAAATTAATCAGCAAGCACAACAGCTTAAGCTTGCTGCGCTAGGGCAACTCTCAGCAAGTATTGCACATGAGATCCGCAATCCTCTTGCTGCAATCGTACAAGCAAATGAGTTACTGAAAGATAGCGATCCAGAACAACAAAATACTTTGCGTCATATGATTGGCAAACAAACCAAACGCATTGATAGTATTGTTCAAGATACTTTAGGGCTTGCTCGTAGCGAAAGAACACATCCTATCCAGATCGATGTAAAACACTTCATAGATACATTGCTCGAAGAAGATTTATTTGACGTTAAACATTCAATTCAACTTAAAATTTCGGATAGTTCTTTAAAATTTTTATTTGATGAAAAACAATTAAGACAAGTCATGATTAATCTGGTGAGAAATGCTTTACGGCATAATGCCCCCGACTCACCCTACATTACGATCAACATCCATTCACAGACAAATAAAATTTATATTGATGTGATCGATTACGGTGAAGGTGTTTCAAAACGTGATATATCTCAATTATTTATACCATTTTTTAGTACCGAAATTAATGGAACTGGTTTAGGATTATATTTGTCTCATAGTTTTTGTGAGGCGAACCATGCAAAGCTCACCTATGTAGAGCAAAAACAAGGGGCATGCTTCAGAATAGAATGCCCAATAATATATTGA\n",
      ">OMX_gene_1f9452a354c395148a59da726fa4bc28|Sporulation protein YjcA\n",
      "GTGGTTATCAATTGGCTTTCATTTATTCTGTTATCGTTTGCCGTTTTCCGGCTGGCCAGGCTTTTCGTATTTGACACCATTATGGCGCCGCTTCGGAGCCTTTTTCACGAGGAAAAAACAGAAACCGCACCCGACGGCACGACAGAAACCTACATTGTCATAAAAGGAAAAGGGATCAGGGCATTTATCGGTGAACTTCTCAGCTGCTACTGGTGTACGGGCGTATGGTGCGCCGCCTTTTTAATTGCCGCGCAGATTGTGATACCCGAGACCGCGCAATGGCTGATTTTACTGTTAGCCATAGCCGGCGCAGCCGGGATCATTGAAGCTGCGGTTTCTCGTCTTCTGCAGGAATAA\n",
      ">OMX_gene_352e52fd92b91fddc779848a62892c34|Sporulation kinase E\n",
      "ATGAAGAACAACTCGTTTTCTACAGTTCCATCGTCTTCAGAAGGAATAGAGAAACAGGATTTACACGTTGTGGGAATTGGCGCTTCTGCCGGAGGGTTAGAAGCTATTGAGCAGTTTTTCGCTAATATGCCTTCACCAAATGGAATGGCGTTTATTATTGTACAGCACCTTTCCTCTAAATATAAAAGTTTTATGCCAGAACTTTTAGCNNNNNNNNCAGGAATGAATATCAAACTGACACAAGACGGGATGACTTTACAAGAAGACACAATTTATTTAAATCCTCCCCATCATTATGTGACCGTTGTGGATCATACTCTTCGCCTTCGTCCTTATGAAGAAAATGATCAGGTAAAGTATCCGATTGACGCCTTTTTTCATTCTCTGGCCGCTGCNNNNNNNCACCGGTGCACAGCCATTATTTTATCGGGAAAAGGAAATGATGGAACAGGAGGAGCAAAAACGATAAGAGAGTATGGCGGAACTGTACTTGTACAAGATGAAAGCACAGCAAAGTACAGAGATATGCCCCTAAGCGCTATTGATGCACACCTTGCTGATTATATTCTTTCTCCTGCTGATATGCCTGACCTTGTGCAAACGCATGTCAGCCAAACTGAATTTACATATAATGAAGAAACGCTGCAATACATTTATTCATTAATAAAGAAGAAAACAGGCATCGACTTCTCTATGTACNNNNNNNNCACGGTGCTGCGACGACTTGAAAAAAGAATGGCTTTACTCGATCCGCCCTCTCAAACGATGGAAGAGTACCGGGACTATTTATGTAAGGAAGCCGAAGAAATCGTCGAACTGCAGCGAGACCTGCTGATTGGAGTGACGCAATTTCTTAGAGATAAAGAAGCATTCTCTATTATTGAAGAACAAGTCATCCCTCAATTAGTTGAAAGAAAGATTCATAGCCAAGAAGATGAAATCCGCATCTGGGTAGCAGGTTGTTCTACTGGTCAAGAAGCATATACATTAGCTATTTTGCTTCATGACTATTTATCAACAATCAACCGTTATTTCGATGTCCGAATCTTTGCTACGGACATCGATCGTCATGCAATCAAAAGAGCGAGTCAAGGCATTTATGAAGAAGCGGAAGTTCATTCCTTCTCAGCAGCTCAGATTAATGAATATTTTGAGCAAACAAAACACGGTGGTTATCAAGTTNNNNNNNCAATCCGTAAAATGATTGTTTTTGCCCCGCATAATATAGGAAAAGACTCGCCTTTTGTAAACGTTGATTTAATCAGCTGTCGAAATATGATGATTTACTTCCAAGCTGAACTGCAGCAGCGCATTCTGTCTCTTTTTCATTTTTCTTTGACAGAAGAAGGCGTACNNNNNNNAGGCCCTAGTGAAACAACGGGAAATTTGTCTGATTTGTTCCGCCCTATCAACAGTAAGTGGAAAATATTTAAACGTTCGGGGCAGCCCAGCCGACAAATTACAGGAGCTTTTAATCTTTCAAAATCCAGCTTGCATGAAGGTGATTTTTCTAGCGTACCGCTGCCAAGTCAACTTTATAAGCCTCTTCCTTCGCTTAAATTGGATGAGATGTATCAGTCAATGATTGATCATTTTATGAGCCCTTGTCTTGTATTAAATGAATACAACGAAGTGATATTTTGTTCAAAAGAAGCGACTCAGCTTATTAACGTTCCTGTGGGGAAGATTAATTATACCATTTTCAAAATGGTTCCCGTTCACGTCTCTTTAGCCATTGGAGCAGCTATTAAACGCGTAAAAGAGCAAGGTATGAGCGTATGCTGTCAGCACATTGAATTTGTCATAAACAACGTGCAGCGCCGTTTTAATATTACTATATCTGCCCTTCCAACAAATCACTCTCTTTACTTACTTATGTTTGATGAACAGACAGATAGTGCCATTATTGATAAGGAAGAGCCCATGTTTCTTAATCAAACAAGCTCTATTAGTGAGCTTGTAGTAGATTTAGAGCAAGAGCTTCATTACACACAGCAGCATTTGCAAACGACGATTGAAGAGCTAGAAACAGCAAATGAGGAGCTAAAGTCCACGAACGAAGAACTGATTGCTTCCAACGAAGAGCTGCAGTCCACAAATGAGGAATTGCAGTCTGTTAATGAAGAGTTAATTAGTGTTAACAACCAGTACGAGCGAAAGATTGAAGAATTGACGGACTTAAACAACGATATTGATAATTTATTAATCAGTACAACTATTGCTACCATCTTTTTAGACGAGCAGCTGAATATTAAATTATTTACGCCGGAAACGAAAACAGTGATCAACGTTCTTCATCAAGATATCGGAAGACCTTTCTTTCATATTTCGCATAACTTTAGATATGACCATCTAATCGAGGACGCAATGCACGTTTTAAGAACAAATAACACCCTTCAAAAAGAAATTCAAAGCTACGATAACCAATGGTATAGCATGAAAATGATGCCTTATCGTACGAACGAGAATTTAATTAACGGTGTAGTTATTACGTTTATTAATATTACAGAAATTAAACGTTCAAATGAAGAATTGGCTATTACATCATTTGCAGTAGCTCACAGTCCTACGGGCATTTTTATTACCGATCATCAAGGTAAAATTAAGTACATTAATCAAAAATTCATGGAGCAAAAGCATGCGCCGCAAGAAGTATTTGGGCTACACCTCTATGACTTATATACAAAAAAGCTAGGCGTTAAAAGATTCCCTAAAATTTGGAATGAAGTATACAGAGGAGAAAAATGGAACGGAGAAATTTCCTACGTTCAAGAAGACGGAGAAACCGTTTGGGAACAGTTAGCCTTAATGCCTGTTAAAAATGATCAAGATGAAATCATCCATTACATTGGTTTAAGCGAAGACATTTCACAGCGCAAACAGTCGGAAATGATGCTCAAAAATTCAGAGATGCTGTCAGCACTTGGACAGCTGGCTGCCGGCATTGCCCATGAAATACGAAACCCCCTTACATCATTAAAGGGCTTTTTACAGCTTATGATGCAAGAAGAGACGTATAAAAAAGAATATATGGACGTCATGATGTCCGAGTTTAACCGCTTAGAGCTGATTATTAGCGAACTGCTCATTCTAGCCAAACCCGAAGTCGTAAAATATGAAAATAAGCAGATAAATTTAATTCTTCAAGACGTATGCACACTGCTGCATACACAGGCCATTCTTAAAAACATTACTATTTCAACGGATTTTGAAGAAAAATTACCTGTTGTTCATTGTATTGAAAAAGATATGAAACAAGTATTTATCAACATGGTGAAAAATTCTATTGAAGCGATGGAGGACCCCGGGTCTATTCTAGTGGTATCTAAATTTGATCCAGATACAAATCAAGTAGTCGTCCAAGTGATAGATGAAGGAAAAGGCATGCCGAAAGATCGATTAACACGAATTGGCGAGCCTTTCTATACAACAAAAGAAAAAGGAACAGGGTTAGGATTGATGGTGAGTCATAAAATCATTAGTAATCATAAAGGAAGCATTTCGTATGATAGTGAAGAAGGCAAAGGAACAACGGTAGAAATCCGATTGCCGCTTTCTTAA\n",
      ">OMX_gene_396d1795016a5086175af30bcc576801|Sporulation kinase A\n",
      "GTGGAACAGGATACGCAGCATGTTAAACCACTTCAAACAAAAACCGATATTCATGCAGTCTTGGCCTCGAATGGACGCATCATTTATATATCTGCCAACTCCAAACTGCATTTGGGCTATCTCCAAGGAGAGATGATCGGATCATTCCTCAAAACGTTTCTGCATGAGGAAGACCAATTTTTGGTTGAAAGCTATTTTTATAATGAACATCATCTGATGCCGTGCACCTTTCGTTTTATTAAAAAAGATCATACGATTGTGTGGGTGGAGGCTGCGGTAGAAATTGTTACGACAAGAGCTGAGCGGACAGAACGGGAAATCATTTTGAAAATGAAGGTTCTTGAAGAAGAAACAGGCCATCAATCCCTAAACTGCGAAAAACATGAAATCGAACCTGCAAGCCCGGAATCGACTACATATATAACGGATGATTATGAACGGTTGGTTGAAAATCTCCCGAGTCCGCTATGCATCAGTGTCAAAGGCAAGATCGTCTATGTAAACAGCGCGATGCTTTCAATGCTGGGAGCAAAAAGCAAGGATGCTATTATTGGAAAATGGTCCTATGAATTTATTGAAGAAGAATATCATGATATCGTGAAAAACAGGATTATACGAATGCAAAAAGGAATGGAAGTCGGAATGATTGAACAGACGTGGAAAAGGCTTGATGGCACACCTGTTCATTTAGAAGTGAAAGCATCCCCGACCGTCTACAAAAACCAGCAGGCTGAGCTGCTGCTGCTGATCGATATCTCTTCAAGGAAGAAATTCCAAACCATCCTGCAAAAAAGCCGTGAACGATATCAGCTGCTGATTCAAAATTCCATTGATACCATTGCGGTGATTCACAATGGAAAATGGGTGTTTATGAATGAATCGGGAATTTCCCTGTTTGAAGCGGCTACCTATGAGGACTTAATTGGCAAAAACATATACGATCAGCTGCATCCTTGCGATCACGAGGATGTAAAAGAGAGAATCCAAAACATTGCCGAGCAAAAAACAGAATCTGAAATTGTCAAGCAATCCTGGTTCACCTTTCAGAACAGGGTCATTTATACGGAGATGGTCTGCATTCCGACGACCTTTTTTGGTGAAGCGGCCGTCCAGGTCATTCTTCGGGACATTTCAGAGAGAAAACAAACAGAAGAATTGATGCTGAAATCGGAAAAATTATCAATCGCAGGGCAGCTCGCGGCGGGAATCGCCCATGAGATCCGCAACCCTCTTACAGCGATCAAAGGATTTTTACAGCTGATGAAACCGACAATGGAAGGCAACGAACATTACTTTGATATTGTGTTTTCTGAACTCAGCCGTATCGAATTAATACTCAGTGAACTGCTCATGCTGGCGAAACCTCAGCAAAATGCTGTCAAAGAATATTTGAACTTGAAAAAATTAATTGGTGAGGTTTCAGCCCTGTTAGAAACGCAGGCGAATTTAAATGGCATTTTTATCAGAACAAGTTATGAAAAAGACAGCATTTATATAAACGGGGATCAAAACCAATTAAAGCAGGTATTCATTAATTTAATCAAAAATGCAGTTGAATCAATGCCTGATGGGGGAACAGTAGACATTATCATAACCGAAGATGAGCATTCTGTTCATGTTACTGTCAAAGACGAAGGGGAAGGTATACCTGAAAAGGTACTAAACCGGATTGGAGAGCCATTTTTAACAACAAAAGAAAAAGGTACGGGGCTTGGATTAATGGTGACATTTAATATCATTGAAAACCATCAGGGAGTTATACATGTGGACAGCCATCCTGAAAAAGGCACAGCGTTTAAAATTTCATTTCCAAAAAAATAA\n",
      ">OMX_gene_1176547406380c8439a53bd68d2bd69f|Sporulation protein YjcA\n",
      "GTGACCAAGTTGAAGGCGAAGGTGACCCGCCTGCGTCGGGCCTACGCGCCGCACGAGTACCGGCCACTCGGCGGCTACCTCGTGGCCATGGGTGCCTACACCGGGGTGACGGCCGCGATCGTCGGGCTGGTGAAGGTGACTCGCCGGCCGCTGCCGGAGCGACCGGCGACGGCCGACGTGGTCCTGCTGGCCATCGCAACCCACAAGCTCAGCCGGTTGCTCTCCAAGAAAGCCGTGACCAGCCCGGTGCGGGCGCCGTTCACCCGCTACGCCCGGCCGATCGGCAGCGGCGAGGTGATGGAGGAGGTGCGCGACTCGGGCAGTCCCACCCGGCACGCCGTCGGTGAGCTGCTCAGTTGCCCGTTCTGCCTGGCTGTCTGGGTGGCCACCGGGCTCACCGGAGGGCTGGTGCTGGCGCCGCGGCTGACCCGTCTCGTCGCCACGGCGCTCACCGCCATGACGGCCTCGGACTTCATTCAGCTGGCGTACGCGACAGCGCAGCAGGGCGCCGAGCGGAGCGAGGGTTAG\n",
      ">OMX_gene_064ca57f645b18f140a606af9937ad87|Sporulation kinase A\n",
      "ATGCTTGTAGATGAAAATAACAATATAGTAGAATCGAACAAAGTACTATATGATTTTATGGGTGAAATGAGTTATAAGATAGCAGATTTGATTAACATGATAAAAGGAGTTATTGAAAATACTTTCTCTGAAAATACTAATAAAACTAGTGAAATAGAAATACACAATAAAATTTTAAAGATAAATACTTTTCCTGTAGAGTATNNNNNNNNTAATACTGAGTATATAGTAGTTCTTATTAAAGATATAACTAATGATAAAATAGTAGAGGCGAAATTACTTAGAGAAAATAAAATGATATCTATAGGACAATTAGCTTCTGGGGTAGCACATGAGATAAGAAATCCTTTAGGTATAATAAGAAATAATTGCTATCTCTTAAAAGATAACGTTACAATGGAAGAAGTAAATGATTGTGTTAAATCAATAGAAAGTAATGTAGATAGGGCAAGTAATATAATAACCAACTTGTTAAATTTCGCAAGAATATCAGATGATAATTTAGAACATATAAATATAAGAAATTTTATTGAAAATATAGTGAAACTTCAATATAAAATGTTACAGTTAAAGAATGTTGAAATAAAAATTGACTGTGAACATAATTTAGTATGCTATATAAATGGAGAATCTTTAAAACACGTATTTATAAATTTAATTTCTAATTCAATAGATGCAATATATCAAGATGGAAAAATTATTATATATTGTTATGNNNNNNNTCATTGTTTATTTATAGATTTTAAAGATAATGGTGAAGGAATAAAAGAAGATGCCCTAAAGGATATATTTAATCCCTTCTATACAACAAAACCAATTGGTGAGGGAACTGGTTTAGGTTTATATATTACTTATAATGAGATTAAAAAGAATAATGGAGATATAAGTGTTGAAAGTAAATTGGGAGTTGGAACTTGTTTTCATATAAAAATTCCATTAAATAAAGAGGTGACTATATAA\n"
     ]
    }
   ],
   "source": [
    "results_fasta = response.results(type='fasta')\n",
    "print(results_fasta)"
   ]
  },
  {
   "cell_type": "code",
   "execution_count": null,
   "metadata": {},
   "outputs": [],
   "source": []
  }
 ],
 "metadata": {
  "kernelspec": {
   "display_name": "Python 3",
   "language": "python",
   "name": "python3"
  },
  "language_info": {
   "codemirror_mode": {
    "name": "ipython",
    "version": 3
   },
   "file_extension": ".py",
   "mimetype": "text/x-python",
   "name": "python",
   "nbconvert_exporter": "python",
   "pygments_lexer": "ipython3",
   "version": "3.7.6"
  },
  "pycharm": {
   "stem_cell": {
    "cell_type": "raw",
    "metadata": {
     "collapsed": false
    },
    "source": []
   }
  }
 },
 "nbformat": 4,
 "nbformat_minor": 2
}
