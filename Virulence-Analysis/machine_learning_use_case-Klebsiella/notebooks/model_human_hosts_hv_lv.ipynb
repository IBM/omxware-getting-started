{
 "cells": [
  {
   "cell_type": "code",
   "execution_count": null,
   "id": "b0ebfb95-7307-4ff8-89fe-b54a8e0a625f",
   "metadata": {
    "tags": []
   },
   "outputs": [],
   "source": [
    "import pandas as pd\n",
    "import numpy as np\n",
    "from os.path import join\n",
    "from sklearn.pipeline import Pipeline\n",
    "\n",
    "DATA_PATH = os.getenv('DATA_PATH')\n",
    "MODEL_PATH = os.getenv('MODEL_PATH')\n",
    "RESULTS_PATH = os.getenv('RESULTS_PATH')\n",
    "DRY_RUN = os.getenv('DRY_RUN')\n",
    "if DRY_RUN == 'True':\n",
    "    DRY_RUN = True\n",
    "elif DRY_RUN == 'False':\n",
    "    DRY_RUN = False\n",
    "else:\n",
    "    raise RuntimeError(\"Incorrect value for DRY_RUN\")\n",
    "NUM_JOBS = int(os.getenv('NUM_JOBS'))\n",
    "sys.path.append(os.getenv('SOURCE_PATH'))\n",
    "\n",
    "\n",
    "from data_prep import Data, MLDataPrep, read_baseline_data, transform_baseline_data\n",
    "from exploratory_data_analysis import EDA\n",
    "from model import FeatureSelection\n",
    "\n",
    "%load_ext autoreload\n",
    "%autoreload 2\n",
    "\n",
    "%load_ext autoreload\n",
    "%autoreload 2"
   ]
  },
  {
   "cell_type": "markdown",
   "id": "556413ff-a01e-4780-a834-9d6574630c2d",
   "metadata": {
    "tags": []
   },
   "source": [
    "## 0. Read in the data"
   ]
  },
  {
   "cell_type": "code",
   "execution_count": null,
   "id": "2e4bed6f-5e2d-4307-bd7c-fe9ab62002d8",
   "metadata": {
    "tags": []
   },
   "outputs": [],
   "source": [
    "all_hosts_file = 'features_and_output/df_data_all_hosts.csv'\n",
    "human_hosts_file = 'features_and_output/df_data_humans.csv'\n",
    "genome_metadata_file = 'metadata/genome_complete_metadata.csv'\n",
    "mlst_metadata_file = 'metadata/IBM_virulence_mlst_revised.csv'\n",
    "\n",
    "data_obj = Data(DATA_PATH, all_hosts_file, human_hosts_file, genome_metadata_file, mlst_metadata_file)"
   ]
  },
  {
   "cell_type": "code",
   "execution_count": null,
   "id": "2c6078a9-046e-4e3c-9949-3c7a1dc950ae",
   "metadata": {
    "tags": []
   },
   "outputs": [],
   "source": [
    "data_obj.df_mlst_metadata"
   ]
  },
  {
   "cell_type": "code",
   "execution_count": null,
   "id": "792d49dc-77e5-4148-b27b-3f910843a9b2",
   "metadata": {
    "tags": []
   },
   "outputs": [],
   "source": [
    "data_obj.df_data_human_hosts"
   ]
  },
  {
   "cell_type": "markdown",
   "id": "7ee6ef24-bec5-49d2-9396-38e1a569aa47",
   "metadata": {
    "tags": []
   },
   "source": [
    "## 1. Drop kp genomes"
   ]
  },
  {
   "cell_type": "code",
   "execution_count": null,
   "id": "25c13317-75ff-47e0-8d58-17ed33fc70aa",
   "metadata": {
    "tags": []
   },
   "outputs": [],
   "source": [
    "df = data_obj.drop_non_kp_genomes(host_type = \"human\")\n",
    "df.Scheme"
   ]
  },
  {
   "cell_type": "code",
   "execution_count": null,
   "id": "7878ea42-4b64-4d86-9736-bece3ccf3498",
   "metadata": {
    "tags": []
   },
   "outputs": [],
   "source": [
    "data_obj.check_if_non_kp_data_present(data_obj.df_data_all_hosts, data_obj.df_mlst_metadata)"
   ]
  },
  {
   "cell_type": "code",
   "execution_count": null,
   "id": "1df7d02c-77f6-416b-842b-32c5efc1822e",
   "metadata": {
    "tags": []
   },
   "outputs": [],
   "source": [
    "print(\"for HUMAN HOSTS:\", df.LABEL.value_counts())"
   ]
  },
  {
   "cell_type": "code",
   "execution_count": null,
   "id": "708927ba-7248-42a2-858a-b61eca818bd4",
   "metadata": {
    "tags": []
   },
   "outputs": [],
   "source": [
    "df = data_obj.drop_column(df, 'Scheme')"
   ]
  },
  {
   "cell_type": "markdown",
   "id": "7976180c-6bf4-47cb-9534-823c87472593",
   "metadata": {
    "tags": []
   },
   "source": [
    "## 2. Run Exploratory data analysis"
   ]
  },
  {
   "cell_type": "code",
   "execution_count": null,
   "id": "9085f216-2731-4c55-8bd6-d66041ab7ea2",
   "metadata": {
    "tags": []
   },
   "outputs": [],
   "source": [
    "eda_obj = EDA(df, change_index_to_accession = True) #this also sets index to ACCESSION_NUMBER if not already there\n",
    "eda_obj.run_complete_analysis()"
   ]
  }
 ],
 "metadata": {
  "kernelspec": {
   "display_name": "ml_env",
   "language": "python",
   "name": "ml_env"
  },
  "language_info": {
   "codemirror_mode": {
    "name": "ipython",
    "version": 3
   },
   "file_extension": ".py",
   "mimetype": "text/x-python",
   "name": "python",
   "nbconvert_exporter": "python",
   "pygments_lexer": "ipython3",
   "version": "3.10.12"
  }
 },
 "nbformat": 4,
 "nbformat_minor": 5
}
