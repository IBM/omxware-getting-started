{
 "cells": [
  {
   "cell_type": "markdown",
   "id": "9ee63649-7ddf-4088-99a3-d1f46f2b9d30",
   "metadata": {},
   "source": [
    "# TRAINING BASELINE MODELS"
   ]
  },
  {
   "cell_type": "code",
   "execution_count": null,
   "id": "6131fc20-971c-4f2b-8f16-440691e8957d",
   "metadata": {
    "tags": []
   },
   "outputs": [],
   "source": [
    "import pandas as pd\n",
    "import numpy as np\n",
    "import copy\n",
    "import os\n",
    "from os.path import join\n",
    "import sys\n",
    "\n",
    "\n",
    "DATA_PATH = os.getenv('DATA_PATH')\n",
    "MODEL_PATH = os.getenv('MODEL_PATH')\n",
    "RESULTS_PATH = os.getenv('RESULTS_PATH')\n",
    "DRY_RUN = os.getenv('DRY_RUN')\n",
    "if DRY_RUN == 'True':\n",
    "    DRY_RUN = True\n",
    "elif DRY_RUN == 'False':\n",
    "    DRY_RUN = False\n",
    "else:\n",
    "    raise RuntimeError(\"Incorrect value for DRY_RUN\")\n",
    "NUM_JOBS = int(os.getenv('NUM_JOBS'))\n",
    "sys.path.append(os.getenv('SOURCE_PATH'))\n",
    "\n",
    "\n",
    "from data_prep import Data, MLDataPrep, read_baseline_data, transform_baseline_data\n",
    "\n",
    "%load_ext autoreload\n",
    "%autoreload 2"
   ]
  },
  {
   "cell_type": "code",
   "execution_count": null,
   "id": "417b8165",
   "metadata": {
    "tags": []
   },
   "outputs": [],
   "source": [
    "print(os.getenv('SOURCE_PATH'))"
   ]
  },
  {
   "cell_type": "markdown",
   "id": "f10c31b1-316f-4033-abdd-981cb84740d8",
   "metadata": {
    "tags": []
   },
   "source": [
    "## LOAD AND PREPARE BASELINE DATA - USING UTILS FILE"
   ]
  },
  {
   "cell_type": "code",
   "execution_count": null,
   "id": "75e7388e-abce-4dce-8c66-79f5b0f9081a",
   "metadata": {},
   "outputs": [],
   "source": [
    "from data_prep import read_baseline_data, transform_baseline_data\n",
    "\n",
    "df = read_baseline_data()\n",
    "df_baseline_human_hosts, df_baseline_all_hosts = transform_baseline_data(df)"
   ]
  },
  {
   "cell_type": "code",
   "execution_count": null,
   "id": "ccacb566-54ec-481c-9b26-283d08447923",
   "metadata": {
    "tags": []
   },
   "outputs": [],
   "source": [
    "print(df_baseline_human_hosts.shape)\n",
    "df_baseline_human_hosts.head()"
   ]
  },
  {
   "cell_type": "code",
   "execution_count": null,
   "id": "b7bde2a4-1139-4fd0-856b-cee0d92ea2e8",
   "metadata": {
    "tags": []
   },
   "outputs": [],
   "source": [
    "print(df_baseline_all_hosts.shape)\n",
    "df_baseline_all_hosts.head()"
   ]
  },
  {
   "cell_type": "markdown",
   "id": "c70b00c8-0e07-471d-94b1-3dc5dff00177",
   "metadata": {},
   "source": [
    "## TRAIN BASELINE MODEL FOR ALL HOSTS"
   ]
  },
  {
   "cell_type": "code",
   "execution_count": null,
   "id": "f90fe264-569f-40d6-a72d-3974a9427e5c",
   "metadata": {
    "tags": []
   },
   "outputs": [],
   "source": [
    "from model import train_baseline_ml_models"
   ]
  },
  {
   "cell_type": "code",
   "execution_count": null,
   "id": "70c5ce63-54b4-46f6-a23f-438490b12bb3",
   "metadata": {
    "scrolled": true,
    "tags": []
   },
   "outputs": [],
   "source": [
    "DATA_PATH = os.getenv('DATA_PATH')\n",
    "MODEL_PATH = os.getenv('MODEL_PATH')\n",
    "RESULTS_PATH = os.getenv('RESULTS_PATH')\n",
    "DRY_RUN = os.getenv('DRY_RUN')\n",
    "if DRY_RUN == 'True':\n",
    "    DRY_RUN = True\n",
    "elif DRY_RUN == 'False':\n",
    "    DRY_RUN = False\n",
    "else:\n",
    "    raise RuntimeError(\"Incorrect value for DRY_RUN\")\n",
    "NUM_JOBS = int(os.getenv('NUM_JOBS'))\n",
    "sys.path.append(os.getenv('SOURCE_PATH'))\n",
    "\n",
    "train_baseline_ml_models(df_baseline_human_hosts, df_baseline_all_hosts)"
   ]
  },
  {
   "cell_type": "markdown",
   "id": "9ee40769-89bd-49d8-ab65-1e5305c3b8c0",
   "metadata": {},
   "source": [
    "# TEST BASELINE MODEL FOR ALL HOSTS"
   ]
  },
  {
   "cell_type": "code",
   "execution_count": null,
   "id": "22bfbf8e-e432-44be-8b6b-d5b5368e23c8",
   "metadata": {
    "tags": []
   },
   "outputs": [],
   "source": [
    "from model import test_baseline_ml_models"
   ]
  },
  {
   "cell_type": "code",
   "execution_count": null,
   "id": "732c25fa-c5cd-4b9a-a908-adce690baefe",
   "metadata": {
    "scrolled": true,
    "tags": []
   },
   "outputs": [],
   "source": [
    "DATA_PATH = os.getenv('DATA_PATH')\n",
    "MODEL_PATH = os.getenv('MODEL_PATH')\n",
    "RESULTS_PATH = os.getenv('RESULTS_PATH')\n",
    "DRY_RUN = os.getenv('DRY_RUN')\n",
    "if DRY_RUN == 'True':\n",
    "    DRY_RUN = True\n",
    "elif DRY_RUN == 'False':\n",
    "    DRY_RUN = False\n",
    "else:\n",
    "    raise RuntimeError(\"Incorrect value for DRY_RUN\")\n",
    "NUM_JOBS = int(os.getenv('NUM_JOBS'))\n",
    "sys.path.append(os.getenv('SOURCE_PATH'))\n",
    "\n",
    "test_baseline_ml_models(df_baseline_human_hosts, df_baseline_all_hosts)"
   ]
  }
 ],
 "metadata": {
  "kernelspec": {
   "display_name": "python_env_sklearn_1.31",
   "language": "python",
   "name": "python_env_sklearn_1.31"
  },
  "language_info": {
   "codemirror_mode": {
    "name": "ipython",
    "version": 3
   },
   "file_extension": ".py",
   "mimetype": "text/x-python",
   "name": "python",
   "nbconvert_exporter": "python",
   "pygments_lexer": "ipython3",
   "version": "3.10.12"
  }
 },
 "nbformat": 4,
 "nbformat_minor": 5
}
