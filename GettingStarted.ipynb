{
 "cells": [
  {
   "cell_type": "markdown",
   "metadata": {
    "colab_type": "text",
    "id": "lV9-qpW7jOZx"
   },
   "source": [
    "## Verify Python 3"
   ]
  },
  {
   "cell_type": "code",
   "execution_count": 13,
   "metadata": {
    "colab": {
     "base_uri": "https://localhost:8080/",
     "height": 34
    },
    "colab_type": "code",
    "id": "-8eDpkW6jU0s",
    "outputId": "1016309c-7d55-470d-f8fa-a1b426fa5492"
   },
   "outputs": [
    {
     "name": "stdout",
     "output_type": "stream",
     "text": [
      "Alrite! We are using Python 3\n"
     ]
    }
   ],
   "source": [
    "import sys\n",
    "\n",
    "if sys.version_info[0] < 3:\n",
    "    raise \"Must be using Python 3\"\n",
    "else:\n",
    "    print(\"Alrite! We are using Python \"+str(sys.version_info[0]))"
   ]
  },
  {
   "cell_type": "markdown",
   "metadata": {
    "colab_type": "text",
    "id": "CItgtMaJjaeR"
   },
   "source": [
    "## Install OMXWare"
   ]
  },
  {
   "cell_type": "code",
   "execution_count": 14,
   "metadata": {
    "colab": {},
    "colab_type": "code",
    "id": "LLktsOe9jbqv",
    "scrolled": true
   },
   "outputs": [
    {
     "name": "stdout",
     "output_type": "stream",
     "text": [
      "Found existing installation: omxware 0.1.45\n",
      "Uninstalling omxware-0.1.45:\n",
      "  Would remove:\n",
      "    /home/vader/Projects/python3_env/lib/python3.7/site-packages/omxware-0.1.45.dist-info/*\n",
      "    /home/vader/Projects/python3_env/lib/python3.7/site-packages/omxware/*\n",
      "Proceed (y/n)?   Successfully uninstalled omxware-0.1.45\n",
      "Collecting omxware\n",
      "  Downloading omxware-0.1.45-py2.py3-none-any.whl (34 kB)\n",
      "Requirement already satisfied: pandas in /home/vader/Projects/python3_env/lib/python3.7/site-packages (from omxware) (1.0.1)\n",
      "Requirement already satisfied: configparser in /home/vader/Projects/python3_env/lib/python3.7/site-packages (from omxware) (5.0.0)\n",
      "Requirement already satisfied: IPython in /home/vader/Projects/python3_env/lib/python3.7/site-packages (from omxware) (7.15.0)\n",
      "Requirement already satisfied: matplotlib in /home/vader/Projects/python3_env/lib/python3.7/site-packages (from omxware) (3.2.0)\n",
      "Requirement already satisfied: pycryptodome in /home/vader/Projects/python3_env/lib/python3.7/site-packages (from omxware) (3.9.8)\n",
      "Requirement already satisfied: urllib3<=1.24.2 in /home/vader/Projects/python3_env/lib/python3.7/site-packages (from omxware) (1.24.2)\n",
      "Requirement already satisfied: simplejson>=3.16.0 in /home/vader/Projects/python3_env/lib/python3.7/site-packages (from omxware) (3.17.0)\n",
      "Requirement already satisfied: python-keycloak>=0.16.0 in /home/vader/Projects/python3_env/lib/python3.7/site-packages (from omxware) (0.20.0)\n",
      "Requirement already satisfied: requests in /home/vader/Projects/python3_env/lib/python3.7/site-packages (from omxware) (2.23.0)\n",
      "Requirement already satisfied: pytz>=2017.2 in /home/vader/Projects/python3_env/lib/python3.7/site-packages (from pandas->omxware) (2019.3)\n",
      "Requirement already satisfied: python-dateutil>=2.6.1 in /home/vader/Projects/python3_env/lib/python3.7/site-packages (from pandas->omxware) (2.8.1)\n",
      "Requirement already satisfied: numpy>=1.13.3 in /home/vader/Projects/python3_env/lib/python3.7/site-packages (from pandas->omxware) (1.18.1)\n",
      "Requirement already satisfied: traitlets>=4.2 in /home/vader/Projects/python3_env/lib/python3.7/site-packages (from IPython->omxware) (4.3.3)\n",
      "Requirement already satisfied: jedi>=0.10 in /home/vader/Projects/python3_env/lib/python3.7/site-packages (from IPython->omxware) (0.17.0)\n",
      "Requirement already satisfied: prompt-toolkit!=3.0.0,!=3.0.1,<3.1.0,>=2.0.0 in /home/vader/Projects/python3_env/lib/python3.7/site-packages (from IPython->omxware) (3.0.5)\n",
      "Requirement already satisfied: decorator in /home/vader/Projects/python3_env/lib/python3.7/site-packages (from IPython->omxware) (4.4.2)\n",
      "Requirement already satisfied: pygments in /home/vader/Projects/python3_env/lib/python3.7/site-packages (from IPython->omxware) (2.6.1)\n",
      "Requirement already satisfied: pickleshare in /home/vader/Projects/python3_env/lib/python3.7/site-packages (from IPython->omxware) (0.7.5)\n",
      "Requirement already satisfied: backcall in /home/vader/Projects/python3_env/lib/python3.7/site-packages (from IPython->omxware) (0.1.0)\n",
      "Requirement already satisfied: pexpect; sys_platform != \"win32\" in /home/vader/Projects/python3_env/lib/python3.7/site-packages (from IPython->omxware) (4.8.0)\n",
      "Requirement already satisfied: setuptools>=18.5 in /home/vader/Projects/python3_env/lib/python3.7/site-packages (from IPython->omxware) (45.2.0)\n",
      "Requirement already satisfied: cycler>=0.10 in /home/vader/Projects/python3_env/lib/python3.7/site-packages (from matplotlib->omxware) (0.10.0)\n",
      "Requirement already satisfied: kiwisolver>=1.0.1 in /home/vader/Projects/python3_env/lib/python3.7/site-packages (from matplotlib->omxware) (1.1.0)\n",
      "Requirement already satisfied: pyparsing!=2.0.4,!=2.1.2,!=2.1.6,>=2.0.1 in /home/vader/Projects/python3_env/lib/python3.7/site-packages (from matplotlib->omxware) (2.4.6)\n",
      "Requirement already satisfied: python-jose>=1.4.0 in /home/vader/Projects/python3_env/lib/python3.7/site-packages (from python-keycloak>=0.16.0->omxware) (3.1.0)\n",
      "Requirement already satisfied: idna<3,>=2.5 in /home/vader/Projects/python3_env/lib/python3.7/site-packages (from requests->omxware) (2.9)\n",
      "Requirement already satisfied: chardet<4,>=3.0.2 in /home/vader/Projects/python3_env/lib/python3.7/site-packages (from requests->omxware) (3.0.4)\n",
      "Requirement already satisfied: certifi>=2017.4.17 in /home/vader/Projects/python3_env/lib/python3.7/site-packages (from requests->omxware) (2020.4.5.2)\n",
      "Requirement already satisfied: six>=1.5 in /home/vader/Projects/python3_env/lib/python3.7/site-packages (from python-dateutil>=2.6.1->pandas->omxware) (1.14.0)\n",
      "Requirement already satisfied: ipython-genutils in /home/vader/Projects/python3_env/lib/python3.7/site-packages (from traitlets>=4.2->IPython->omxware) (0.2.0)\n",
      "Requirement already satisfied: parso>=0.7.0 in /home/vader/Projects/python3_env/lib/python3.7/site-packages (from jedi>=0.10->IPython->omxware) (0.7.0)\n",
      "Requirement already satisfied: wcwidth in /home/vader/Projects/python3_env/lib/python3.7/site-packages (from prompt-toolkit!=3.0.0,!=3.0.1,<3.1.0,>=2.0.0->IPython->omxware) (0.2.4)\n",
      "Requirement already satisfied: ptyprocess>=0.5 in /home/vader/Projects/python3_env/lib/python3.7/site-packages (from pexpect; sys_platform != \"win32\"->IPython->omxware) (0.6.0)\n",
      "Requirement already satisfied: ecdsa<1.0 in /home/vader/Projects/python3_env/lib/python3.7/site-packages (from python-jose>=1.4.0->python-keycloak>=0.16.0->omxware) (0.15)\n",
      "Requirement already satisfied: rsa in /home/vader/Projects/python3_env/lib/python3.7/site-packages (from python-jose>=1.4.0->python-keycloak>=0.16.0->omxware) (4.0)\n",
      "Requirement already satisfied: pyasn1 in /home/vader/Projects/python3_env/lib/python3.7/site-packages (from python-jose>=1.4.0->python-keycloak>=0.16.0->omxware) (0.4.8)\n",
      "Installing collected packages: omxware\n",
      "Successfully installed omxware-0.1.45\n",
      "\u001b[33mWARNING: You are using pip version 20.0.2; however, version 20.2.3 is available.\n",
      "You should consider upgrading via the '/home/vader/Projects/python3_env/bin/python -m pip install --upgrade pip' command.\u001b[0m\n",
      "Requirement already satisfied: pprint in /home/vader/Projects/python3_env/lib/python3.7/site-packages (0.1)\n",
      "\u001b[33mWARNING: You are using pip version 20.0.2; however, version 20.2.3 is available.\n",
      "You should consider upgrading via the '/home/vader/Projects/python3_env/bin/python -m pip install --upgrade pip' command.\u001b[0m\n",
      "Requirement already satisfied: py4j in /home/vader/Projects/python3_env/lib/python3.7/site-packages (0.10.7)\n",
      "\u001b[33mWARNING: You are using pip version 20.0.2; however, version 20.2.3 is available.\n",
      "You should consider upgrading via the '/home/vader/Projects/python3_env/bin/python -m pip install --upgrade pip' command.\u001b[0m\n",
      "Requirement already satisfied: pandas in /home/vader/Projects/python3_env/lib/python3.7/site-packages (1.0.1)\n",
      "Requirement already satisfied: python-dateutil>=2.6.1 in /home/vader/Projects/python3_env/lib/python3.7/site-packages (from pandas) (2.8.1)\n",
      "Requirement already satisfied: pytz>=2017.2 in /home/vader/Projects/python3_env/lib/python3.7/site-packages (from pandas) (2019.3)\n",
      "Requirement already satisfied: numpy>=1.13.3 in /home/vader/Projects/python3_env/lib/python3.7/site-packages (from pandas) (1.18.1)\n",
      "Requirement already satisfied: six>=1.5 in /home/vader/Projects/python3_env/lib/python3.7/site-packages (from python-dateutil>=2.6.1->pandas) (1.14.0)\n",
      "\u001b[33mWARNING: You are using pip version 20.0.2; however, version 20.2.3 is available.\n",
      "You should consider upgrading via the '/home/vader/Projects/python3_env/bin/python -m pip install --upgrade pip' command.\u001b[0m\n"
     ]
    }
   ],
   "source": [
    "!echo 'y' | pip uninstall omxware\n",
    "\n",
    "#Install OMXWare client\n",
    "!pip install --no-cache-dir omxware \n",
    "\n",
    "#Install PrettyPrint\n",
    "!pip install --no-cache-dir pprint\n",
    "\n",
    "#Install py4j to use Dynamic forms\n",
    "!pip install --no-cache-dir py4j\n",
    "\n",
    "#Install panda\n",
    "!pip install --no-cache-dir pandas"
   ]
  },
  {
   "cell_type": "code",
   "execution_count": 15,
   "metadata": {
    "colab": {
     "base_uri": "https://localhost:8080/",
     "height": 216
    },
    "colab_type": "code",
    "id": "fcR_u7flj-9g",
    "outputId": "29dd8e8c-6137-4893-da7c-f9d3d1a3002f",
    "scrolled": true
   },
   "outputs": [
    {
     "name": "stdout",
     "output_type": "stream",
     "text": [
      "Name: omxware\r\n",
      "Version: 0.1.45\r\n",
      "Summary: IBM Functional Genomics Platform SDK to explore data.\r\n",
      "Home-page: https://github.ibm.com/GrandChallenge-Almaden/omxware-pypi\r\n",
      "Author: Harsha Krishnareddy\r\n",
      "Author-email: hvkrishn@us.ibm.com\r\n",
      "License: IBM\r\n",
      "Location: /home/vader/Projects/python3_env/lib/python3.7/site-packages\r\n",
      "Requires: pandas, pycryptodome, matplotlib, python-keycloak, requests, IPython, configparser, urllib3, simplejson\r\n",
      "Required-by: \r\n"
     ]
    }
   ],
   "source": [
    "!pip show omxware"
   ]
  },
  {
   "cell_type": "markdown",
   "metadata": {
    "colab_type": "text",
    "id": "A8nrTsIFkIf_"
   },
   "source": [
    "### Import OMXWare and initialize"
   ]
  },
  {
   "cell_type": "code",
   "execution_count": 16,
   "metadata": {
    "colab": {},
    "colab_type": "code",
    "id": "QeyZJ-n1kLav"
   },
   "outputs": [],
   "source": [
    "%matplotlib inline\n",
    "\n",
    "import json\n",
    "import pprint\n",
    "pp = pprint.PrettyPrinter(indent=4)\n",
    "\n",
    "from IPython.display import display\n",
    "\n",
    "import omxware\n",
    "\n",
    "\n",
    "# --- Authentication options --- #\n",
    "# generate token with OMXWare user name and password (likely done once and then stored in file, see usage below)\n",
    "token = omxware.get_token('username', 'password') # fill in password to initiate token\n",
    "\n",
    "# or\n",
    "\n",
    "# use previously generated token loaded from file\n",
    "# token_path = \"./omxware_collaborative_work/super_awesome_token\"  # update for your path to the token file you create\n",
    "# f = open(token_path)\n",
    "# token = f.readline()\n",
    "\n",
    "# provide your token to authenticate with OMXWare\n",
    "omx = omxware.omxware(token)"
   ]
  },
  {
   "cell_type": "code",
   "execution_count": 17,
   "metadata": {
    "colab": {},
    "colab_type": "code",
    "id": "6yhYiy9bkRGM"
   },
   "outputs": [],
   "source": [
    "# help(omx)"
   ]
  },
  {
   "cell_type": "markdown",
   "metadata": {
    "colab_type": "text",
    "id": "bqGve5tHkbAG"
   },
   "source": [
    "#### Genomes for Genus: 'Abiotrophia'"
   ]
  },
  {
   "cell_type": "code",
   "execution_count": 18,
   "metadata": {
    "colab": {
     "base_uri": "https://localhost:8080/",
     "height": 111
    },
    "colab_type": "code",
    "id": "1QImwcdTkcTn",
    "outputId": "7e321b3b-4a43-404d-9a8c-dc9ee6750679"
   },
   "outputs": [
    {
     "data": {
      "text/html": [
       "<div>\n",
       "<style scoped>\n",
       "    .dataframe tbody tr th:only-of-type {\n",
       "        vertical-align: middle;\n",
       "    }\n",
       "\n",
       "    .dataframe tbody tr th {\n",
       "        vertical-align: top;\n",
       "    }\n",
       "\n",
       "    .dataframe thead th {\n",
       "        text-align: right;\n",
       "    }\n",
       "</style>\n",
       "<table border=\"1\" class=\"dataframe\">\n",
       "  <thead>\n",
       "    <tr style=\"text-align: right;\">\n",
       "      <th></th>\n",
       "      <th>genera</th>\n",
       "      <th>genome_type</th>\n",
       "      <th>id</th>\n",
       "      <th>taxid</th>\n",
       "    </tr>\n",
       "  </thead>\n",
       "  <tbody>\n",
       "    <tr>\n",
       "      <th>0</th>\n",
       "      <td>[abiotrophia]</td>\n",
       "      <td>GENBANK</td>\n",
       "      <td>GCA_013267415.1</td>\n",
       "      <td>46123</td>\n",
       "    </tr>\n",
       "    <tr>\n",
       "      <th>1</th>\n",
       "      <td>[abiotrophia]</td>\n",
       "      <td>SRA</td>\n",
       "      <td>SRR1922824</td>\n",
       "      <td>46123</td>\n",
       "    </tr>\n",
       "    <tr>\n",
       "      <th>2</th>\n",
       "      <td>[abiotrophia]</td>\n",
       "      <td>SRA</td>\n",
       "      <td>DRR015936</td>\n",
       "      <td>46123</td>\n",
       "    </tr>\n",
       "  </tbody>\n",
       "</table>\n",
       "</div>"
      ],
      "text/plain": [
       "          genera genome_type               id  taxid\n",
       "0  [abiotrophia]     GENBANK  GCA_013267415.1  46123\n",
       "1  [abiotrophia]         SRA       SRR1922824  46123\n",
       "2  [abiotrophia]         SRA        DRR015936  46123"
      ]
     },
     "metadata": {},
     "output_type": "display_data"
    }
   ],
   "source": [
    "# Get Genus object for genus_name = 'abiotrophia'\n",
    "genus = omx.genus(genus_names='abiotrophia').results()[0]\n",
    "\n",
    "# Get Genomes for the Genus ^^^^^^^^\n",
    "genomes_for_genus = genus.genomes()\n",
    "g4gdf = genomes_for_genus.results(type='df')[['genera','genome_type','id','taxid']]\n",
    "\n",
    "display(g4gdf)"
   ]
  },
  {
   "cell_type": "markdown",
   "metadata": {
    "colab_type": "text",
    "id": "8vOEAf2Wkhsw"
   },
   "source": [
    "### Get Genome by its ID"
   ]
  },
  {
   "cell_type": "code",
   "execution_count": 19,
   "metadata": {
    "colab": {
     "base_uri": "https://localhost:8080/",
     "height": 102
    },
    "colab_type": "code",
    "id": "rVk9u_1AkivX",
    "outputId": "d9025171-56b3-40ea-ddcf-50e2abf244a1"
   },
   "outputs": [
    {
     "name": "stdout",
     "output_type": "stream",
     "text": [
      "ID: SRR1922824\n",
      "Type: SRA\n",
      "TaxID: 46123\n",
      "Genera: [<omxware.entities.Genus.Genus object at 0x7f0e7c894990>]\n"
     ]
    }
   ],
   "source": [
    "genome_id = 'SRR1922824'\n",
    "\n",
    "genome = omx.genomes(ids=genome_id).results()[0]\n",
    "\n",
    "# For the Genome ^^^^^^^^^^^\n",
    "id = genome.id()\n",
    "typ = genome.genome_type()\n",
    "taxid = genome.taxid()\n",
    "\n",
    "genera = genome.genus().results()\n",
    "\n",
    "print('ID: ' + id)\n",
    "print('Type: ' + typ)\n",
    "print('TaxID: ' + taxid)\n",
    "print('Genera: ' + str(genera))"
   ]
  },
  {
   "cell_type": "markdown",
   "metadata": {
    "colab_type": "text",
    "id": "ASjOxrcxkmhR"
   },
   "source": [
    "### Get Genes for a Genome"
   ]
  },
  {
   "cell_type": "code",
   "execution_count": 20,
   "metadata": {
    "colab": {},
    "colab_type": "code",
    "id": "r3Xhnw2PknKX"
   },
   "outputs": [],
   "source": [
    "genes = genome.genes(page_number=1, page_size=10)"
   ]
  },
  {
   "cell_type": "markdown",
   "metadata": {
    "colab_type": "text",
    "id": "CZxxfTZ7kqfc"
   },
   "source": [
    "### Distribution of Genes by Genera"
   ]
  },
  {
   "cell_type": "code",
   "execution_count": 21,
   "metadata": {
    "colab": {
     "base_uri": "https://localhost:8080/",
     "height": 297
    },
    "colab_type": "code",
    "id": "Y-85YV9xkrYR",
    "outputId": "0509f204-7074-4727-e78c-9dbac29a2c84"
   },
   "outputs": [
    {
     "data": {
      "image/png": "[encoded data removed]",
      "text/plain": [
       "<Figure size 432x288 with 1 Axes>"
      ]
     },
     "metadata": {},
     "output_type": "display_data"
    }
   ],
   "source": [
    "genes.show_facets(name='genera', topN=5)"
   ]
  },
  {
   "cell_type": "markdown",
   "metadata": {
    "colab_type": "text",
    "id": "dfTw1ZaXkvfv"
   },
   "source": [
    "### Get the Genes"
   ]
  },
  {
   "cell_type": "code",
   "execution_count": 22,
   "metadata": {
    "colab": {
     "base_uri": "https://localhost:8080/",
     "height": 529
    },
    "colab_type": "code",
    "id": "aTF89EUSkwHi",
    "outputId": "8dc6bddd-788d-42f0-d47f-858a03445d45"
   },
   "outputs": [
    {
     "data": {
      "text/html": [
       "<div>\n",
       "<style scoped>\n",
       "    .dataframe tbody tr th:only-of-type {\n",
       "        vertical-align: middle;\n",
       "    }\n",
       "\n",
       "    .dataframe tbody tr th {\n",
       "        vertical-align: top;\n",
       "    }\n",
       "\n",
       "    .dataframe thead th {\n",
       "        text-align: right;\n",
       "    }\n",
       "</style>\n",
       "<table border=\"1\" class=\"dataframe\">\n",
       "  <thead>\n",
       "    <tr style=\"text-align: right;\">\n",
       "      <th></th>\n",
       "      <th>id</th>\n",
       "      <th>name</th>\n",
       "      <th>type</th>\n",
       "      <th>genera</th>\n",
       "      <th>genomes</th>\n",
       "      <th>sequence_length</th>\n",
       "      <th>status</th>\n",
       "      <th>go_codes</th>\n",
       "      <th>interproscan_ids</th>\n",
       "      <th>omx_creation_ts</th>\n",
       "      <th>omx_modified_ts</th>\n",
       "      <th>classification</th>\n",
       "    </tr>\n",
       "  </thead>\n",
       "  <tbody>\n",
       "    <tr>\n",
       "      <th>0</th>\n",
       "      <td>6603d7ee64b03dcf1978c16ff541a443</td>\n",
       "      <td>[L-arginine-specific L-amino acid ligase]</td>\n",
       "      <td>gene</td>\n",
       "      <td>[abiotrophia]</td>\n",
       "      <td>[SRR1922824]</td>\n",
       "      <td>1167</td>\n",
       "      <td>active</td>\n",
       "      <td>[GO:0005524, GO:0046872]</td>\n",
       "      <td>[IPR011761]</td>\n",
       "      <td>2018-02-28T09:30:34.000-08:00</td>\n",
       "      <td>2018-02-28T09:30:34.000-08:00</td>\n",
       "      <td>[bacteria]</td>\n",
       "    </tr>\n",
       "    <tr>\n",
       "      <th>1</th>\n",
       "      <td>ee56e40e3465b892b76d9a8752784a62</td>\n",
       "      <td>[hypothetical protein]</td>\n",
       "      <td>gene</td>\n",
       "      <td>[abiotrophia]</td>\n",
       "      <td>[SRR1922824]</td>\n",
       "      <td>1377</td>\n",
       "      <td>active</td>\n",
       "      <td>[]</td>\n",
       "      <td>[IPR017853, IPR032267]</td>\n",
       "      <td>2018-02-28T09:30:33.000-08:00</td>\n",
       "      <td>2018-02-28T09:30:33.000-08:00</td>\n",
       "      <td>[bacteria]</td>\n",
       "    </tr>\n",
       "    <tr>\n",
       "      <th>2</th>\n",
       "      <td>a98e35d98faeac3cca4c98281fdbb8b8</td>\n",
       "      <td>[ComE operon protein 1]</td>\n",
       "      <td>gene</td>\n",
       "      <td>[abiotrophia]</td>\n",
       "      <td>[SRR1922824]</td>\n",
       "      <td>669</td>\n",
       "      <td>active</td>\n",
       "      <td>[GO:0003677, GO:0006281]</td>\n",
       "      <td>[IPR003583, IPR004509, IPR010994, IPR019554]</td>\n",
       "      <td>2018-02-28T09:30:34.000-08:00</td>\n",
       "      <td>2018-02-28T09:30:34.000-08:00</td>\n",
       "      <td>[bacteria]</td>\n",
       "    </tr>\n",
       "    <tr>\n",
       "      <th>3</th>\n",
       "      <td>b93cde3fdd6360fb7911bbcdbefb7f33</td>\n",
       "      <td>[Energy-coupling factor transporter ATP-bindin...</td>\n",
       "      <td>gene</td>\n",
       "      <td>[abiotrophia]</td>\n",
       "      <td>[SRR1922824]</td>\n",
       "      <td>897</td>\n",
       "      <td>active</td>\n",
       "      <td>[GO:0005524, GO:0016020, GO:0016887, GO:0055085]</td>\n",
       "      <td>[IPR003439, IPR003593, IPR015856, IPR017871, I...</td>\n",
       "      <td>2018-02-28T09:30:34.000-08:00</td>\n",
       "      <td>2018-02-28T09:30:34.000-08:00</td>\n",
       "      <td>[bacteria]</td>\n",
       "    </tr>\n",
       "    <tr>\n",
       "      <th>4</th>\n",
       "      <td>c7c69b17e25f5fbe3195f5fe4d9f7516</td>\n",
       "      <td>[DNA topoisomerase 4 subunit B]</td>\n",
       "      <td>gene</td>\n",
       "      <td>[abiotrophia]</td>\n",
       "      <td>[SRR1922824]</td>\n",
       "      <td>2088</td>\n",
       "      <td>active</td>\n",
       "      <td>[GO:0003677, GO:0003918, GO:0005524, GO:000569...</td>\n",
       "      <td>[IPR000565, IPR001241, IPR002288, IPR003594, I...</td>\n",
       "      <td>2018-02-28T09:30:33.000-08:00</td>\n",
       "      <td>2018-02-28T09:30:33.000-08:00</td>\n",
       "      <td>[bacteria]</td>\n",
       "    </tr>\n",
       "    <tr>\n",
       "      <th>5</th>\n",
       "      <td>9736211078bd74005ee0e4b9f8ac7fea</td>\n",
       "      <td>[Thiamine pyrophosphokinase]</td>\n",
       "      <td>gene</td>\n",
       "      <td>[abiotrophia]</td>\n",
       "      <td>[SRR1922824]</td>\n",
       "      <td>675</td>\n",
       "      <td>active</td>\n",
       "      <td>[GO:0004788, GO:0005524, GO:0006772, GO:000922...</td>\n",
       "      <td>[IPR006282, IPR007371, IPR007373, IPR036759]</td>\n",
       "      <td>2018-02-28T09:30:33.000-08:00</td>\n",
       "      <td>2018-02-28T09:30:33.000-08:00</td>\n",
       "      <td>[bacteria]</td>\n",
       "    </tr>\n",
       "    <tr>\n",
       "      <th>6</th>\n",
       "      <td>1faecc60aa8e96d69194feb11e043e07</td>\n",
       "      <td>[hypothetical protein]</td>\n",
       "      <td>gene</td>\n",
       "      <td>[abiotrophia]</td>\n",
       "      <td>[DRR015936, SRR1922824]</td>\n",
       "      <td>183</td>\n",
       "      <td>active</td>\n",
       "      <td>[]</td>\n",
       "      <td>[]</td>\n",
       "      <td>2018-02-28T09:30:26.000-08:00</td>\n",
       "      <td>2018-02-28T09:30:26.000-08:00</td>\n",
       "      <td>[bacteria]</td>\n",
       "    </tr>\n",
       "    <tr>\n",
       "      <th>7</th>\n",
       "      <td>1984f6e62eac007041cb8c3944cc94dd</td>\n",
       "      <td>[hypothetical protein]</td>\n",
       "      <td>gene</td>\n",
       "      <td>[abiotrophia]</td>\n",
       "      <td>[SRR1922824]</td>\n",
       "      <td>861</td>\n",
       "      <td>active</td>\n",
       "      <td>[GO:0003677, GO:0043565]</td>\n",
       "      <td>[IPR001387, IPR010057, IPR010982]</td>\n",
       "      <td>2018-02-28T09:30:34.000-08:00</td>\n",
       "      <td>2018-02-28T09:30:34.000-08:00</td>\n",
       "      <td>[bacteria]</td>\n",
       "    </tr>\n",
       "    <tr>\n",
       "      <th>8</th>\n",
       "      <td>90b19bd2ed080a5dc98981ffdf4c790e</td>\n",
       "      <td>[DNA topoisomerase 4 subunit A]</td>\n",
       "      <td>gene</td>\n",
       "      <td>[abiotrophia]</td>\n",
       "      <td>[SRR1922824]</td>\n",
       "      <td>2460</td>\n",
       "      <td>active</td>\n",
       "      <td>[GO:0003677, GO:0003916, GO:0003918, GO:000552...</td>\n",
       "      <td>[IPR002205, IPR005741, IPR006691, IPR013757, I...</td>\n",
       "      <td>2018-02-28T09:30:33.000-08:00</td>\n",
       "      <td>2018-02-28T09:30:33.000-08:00</td>\n",
       "      <td>[bacteria]</td>\n",
       "    </tr>\n",
       "    <tr>\n",
       "      <th>9</th>\n",
       "      <td>cfecbc0f40e063e3bd08db30e02ab856</td>\n",
       "      <td>[30S ribosomal protein S19]</td>\n",
       "      <td>gene</td>\n",
       "      <td>[abiotrophia]</td>\n",
       "      <td>[DRR015936, GCA_013267415.1, SRR1922824]</td>\n",
       "      <td>282</td>\n",
       "      <td>active</td>\n",
       "      <td>[GO:0003723, GO:0003735, GO:0005840, GO:000641...</td>\n",
       "      <td>[IPR002222, IPR005732, IPR020934, IPR023575]</td>\n",
       "      <td>2018-02-28T09:30:25.000-08:00</td>\n",
       "      <td>2020-06-05T18:09:09.000-07:00</td>\n",
       "      <td>[bacteria]</td>\n",
       "    </tr>\n",
       "  </tbody>\n",
       "</table>\n",
       "</div>"
      ],
      "text/plain": [
       "                                 id  \\\n",
       "0  6603d7ee64b03dcf1978c16ff541a443   \n",
       "1  ee56e40e3465b892b76d9a8752784a62   \n",
       "2  a98e35d98faeac3cca4c98281fdbb8b8   \n",
       "3  b93cde3fdd6360fb7911bbcdbefb7f33   \n",
       "4  c7c69b17e25f5fbe3195f5fe4d9f7516   \n",
       "5  9736211078bd74005ee0e4b9f8ac7fea   \n",
       "6  1faecc60aa8e96d69194feb11e043e07   \n",
       "7  1984f6e62eac007041cb8c3944cc94dd   \n",
       "8  90b19bd2ed080a5dc98981ffdf4c790e   \n",
       "9  cfecbc0f40e063e3bd08db30e02ab856   \n",
       "\n",
       "                                                name  type         genera  \\\n",
       "0          [L-arginine-specific L-amino acid ligase]  gene  [abiotrophia]   \n",
       "1                             [hypothetical protein]  gene  [abiotrophia]   \n",
       "2                            [ComE operon protein 1]  gene  [abiotrophia]   \n",
       "3  [Energy-coupling factor transporter ATP-bindin...  gene  [abiotrophia]   \n",
       "4                    [DNA topoisomerase 4 subunit B]  gene  [abiotrophia]   \n",
       "5                       [Thiamine pyrophosphokinase]  gene  [abiotrophia]   \n",
       "6                             [hypothetical protein]  gene  [abiotrophia]   \n",
       "7                             [hypothetical protein]  gene  [abiotrophia]   \n",
       "8                    [DNA topoisomerase 4 subunit A]  gene  [abiotrophia]   \n",
       "9                        [30S ribosomal protein S19]  gene  [abiotrophia]   \n",
       "\n",
       "                                    genomes  sequence_length  status  \\\n",
       "0                              [SRR1922824]             1167  active   \n",
       "1                              [SRR1922824]             1377  active   \n",
       "2                              [SRR1922824]              669  active   \n",
       "3                              [SRR1922824]              897  active   \n",
       "4                              [SRR1922824]             2088  active   \n",
       "5                              [SRR1922824]              675  active   \n",
       "6                   [DRR015936, SRR1922824]              183  active   \n",
       "7                              [SRR1922824]              861  active   \n",
       "8                              [SRR1922824]             2460  active   \n",
       "9  [DRR015936, GCA_013267415.1, SRR1922824]              282  active   \n",
       "\n",
       "                                            go_codes  \\\n",
       "0                           [GO:0005524, GO:0046872]   \n",
       "1                                                 []   \n",
       "2                           [GO:0003677, GO:0006281]   \n",
       "3   [GO:0005524, GO:0016020, GO:0016887, GO:0055085]   \n",
       "4  [GO:0003677, GO:0003918, GO:0005524, GO:000569...   \n",
       "5  [GO:0004788, GO:0005524, GO:0006772, GO:000922...   \n",
       "6                                                 []   \n",
       "7                           [GO:0003677, GO:0043565]   \n",
       "8  [GO:0003677, GO:0003916, GO:0003918, GO:000552...   \n",
       "9  [GO:0003723, GO:0003735, GO:0005840, GO:000641...   \n",
       "\n",
       "                                    interproscan_ids  \\\n",
       "0                                        [IPR011761]   \n",
       "1                             [IPR017853, IPR032267]   \n",
       "2       [IPR003583, IPR004509, IPR010994, IPR019554]   \n",
       "3  [IPR003439, IPR003593, IPR015856, IPR017871, I...   \n",
       "4  [IPR000565, IPR001241, IPR002288, IPR003594, I...   \n",
       "5       [IPR006282, IPR007371, IPR007373, IPR036759]   \n",
       "6                                                 []   \n",
       "7                  [IPR001387, IPR010057, IPR010982]   \n",
       "8  [IPR002205, IPR005741, IPR006691, IPR013757, I...   \n",
       "9       [IPR002222, IPR005732, IPR020934, IPR023575]   \n",
       "\n",
       "                 omx_creation_ts                omx_modified_ts classification  \n",
       "0  2018-02-28T09:30:34.000-08:00  2018-02-28T09:30:34.000-08:00     [bacteria]  \n",
       "1  2018-02-28T09:30:33.000-08:00  2018-02-28T09:30:33.000-08:00     [bacteria]  \n",
       "2  2018-02-28T09:30:34.000-08:00  2018-02-28T09:30:34.000-08:00     [bacteria]  \n",
       "3  2018-02-28T09:30:34.000-08:00  2018-02-28T09:30:34.000-08:00     [bacteria]  \n",
       "4  2018-02-28T09:30:33.000-08:00  2018-02-28T09:30:33.000-08:00     [bacteria]  \n",
       "5  2018-02-28T09:30:33.000-08:00  2018-02-28T09:30:33.000-08:00     [bacteria]  \n",
       "6  2018-02-28T09:30:26.000-08:00  2018-02-28T09:30:26.000-08:00     [bacteria]  \n",
       "7  2018-02-28T09:30:34.000-08:00  2018-02-28T09:30:34.000-08:00     [bacteria]  \n",
       "8  2018-02-28T09:30:33.000-08:00  2018-02-28T09:30:33.000-08:00     [bacteria]  \n",
       "9  2018-02-28T09:30:25.000-08:00  2020-06-05T18:09:09.000-07:00     [bacteria]  "
      ]
     },
     "metadata": {},
     "output_type": "display_data"
    }
   ],
   "source": [
    "gene_results = genes.results(type='df')\n",
    "display(gene_results)"
   ]
  },
  {
   "cell_type": "markdown",
   "metadata": {
    "colab_type": "text",
    "id": "gUdBTk84k0hz"
   },
   "source": [
    "### Get Genes as Fasta"
   ]
  },
  {
   "cell_type": "code",
   "execution_count": 23,
   "metadata": {
    "colab": {
     "base_uri": "https://localhost:8080/",
     "height": 382
    },
    "colab_type": "code",
    "id": "OEYHcQeik1Ga",
    "outputId": "f6487b50-c3c3-4616-a71f-19779b0962fa"
   },
   "outputs": [
    {
     "name": "stdout",
     "output_type": "stream",
     "text": [
      ">OMX_gene_6603d7ee64b03dcf1978c16ff541a443|L-arginine-specific L-amino acid ligase\n",
      "ATGAACTATATTGTTATTTCTCCCTACTACCCTGCTAACTTCCAGCCCTTTTCCTATAAGTTACGTCAACATGGCGTCAATGTCCTAGGGATTGGCCAGGAACCTTATGACCAACTCAACGATGAGCTCAAAGCGACCCTGACTGAATACTTCCGGGTGGATAATCTGGAAGACCTGGACCAAGTCACTCGTGCGGTTGCCTTCTTCTTCCACAAGTATGGACCGATCGACCGTATTGAGTCCCACAATGAATACTGGCTGGAATTAGATGCTGGTCTGCGTCAGCAGTTCAATATCTTTGGCGTCAAACCCCAAGATTTGGCCAAAACTAAGTACAAGTCCGTCATGAAGGAATACTTCCGCAAGGCTGGCGTACCGGTCGTGGACGGTCGCGTGGTTAGCCAGACTTCAGAAATCGATGCCGCCGTCCAAGACTTAGGCCTGCCACTGATTGCTAAACCCGATAATGGCGTGGGGGCTGCCGCTACCTACAAACTCATGACGCCAGAAGATGTGGCCCAATTCAAGGCTACTTGGGGCGAGTCCACTTCTTACTTCCTGGAGCAGTTTGTCTCCTATCCAACGGTGACGACTTTTGATGGTCTGATTGATGCCGAGGGTAATATTGTCTTCGAAACCGGTCTGACCTACTACTACCCACCACTGGAATTAGTCTTGGAGCGTAAGGACAATGCCTTCTATATTGAGAAGGAACTCCATCCTAAGTTGCGTGAATATGGCCATGCCATCATCAAGTCCTTCGGCATGAAGGAGCGCTTCTTCCATATCGAATTCTTCCGGACGCCGGACGATGACTTTATCGCCATTGAATACAACAACCGCCCAGCCGGTGGCTTCTGTATCGACATCTACAACTATGCCCATGATATTGACCTCTACGATTATTGGGCTAAGCTAGTGACAGGCCAAGAACTGCCAAAGCAGACCGCCCATGGTCGCTACTGCCTGGCGGTAGCCCGTCGCGATGAGCATACTTATGTGGCCAGCCACCAAGACATCCTGGATCGATTCGCTGACCAGATCAAGATGACTGCCCGCATTCCGCAGGCTTTCGCTGATTTACTTGGGGACAGTCTCTATGTCATGACGACCCCTTCCCGTCAAGTTGTTGATGATATGGTCCGTTTTGTCGGCCAACGCGTCTAA\n",
      ">OMX_gene_ee56e40e3465b892b76d9a8752784a62|hypothetical protein\n",
      "ATGCGTCAATATTACTTTAGCCGGCTTGTTTTAGCCTGTCTACTCACAGTCAGTCTAATCCAGCCCAATCGAGTGAATGCCCAAGACCAAGTCTTACGTCAGGCTAGCTTTGACTGGCAGGATCCTGAATCAGGGAACCCGCTCATGGGCTATGCCCTCCAAGCTGAAAAATCCCAAGTAGATTCGGATATTCAACTTCTTTACGTCGATGTGACTTGGAAAGAATTGGAACCCCAAAAGGGGAAATATAATTTTGAAGCCATTGAGAAGGCCAATCAGTTTGAGCGTTGGCGCAAAGAAGGCAAGCATTTGGTTTTGCGCTTTGTGCTAGATTTACCTGGCCAGGACCGGCATCAAGATATCCCGGATTGGCTCTACCAAGACATTAAGGGGGCTGGTGACTGGTATCACACCGATTATGGCCAAGGTTTTTCACCAGACTATAGTCAAGAAGCCCTGATTAAAGCCCATGACAAGGCGGTGGCTGCCATGGGCCAGCGTTGGGGGCAGGATGGCTTTGTCTCCTTCATTGAGTTGGGCAGTGTCGGCCACTGGGGCGAGTGGCATGTCAACTATGAGAAGGGACTCAAAAGGTTACCGTCTGAAGACATTCTGGAACGTTACGTGGTGCCTTGGCGCACGGCCTTTCCTAAGACTCAGATTCTCATGCGCCGGCCTTTCAAATGGGGTCAGACCTATCAATTAGGACTCTATAACGACATGGTTGGCGAAGAAATCAATACTAGCCAGTGGTTGGAGTGGATTCAAGCTGGTGGAGTTTACGACCAGACTCAAAACAAGAGCTTGCTTGCCATGCCACAGGCTTGGAAGACCCTTGCCATTGGCGGCGAAATGACCAGCGCCCATTCCATGGAAGACCTGATGGGGTCACGACTCCAGGAAGTCTTGAAGCATGTTAAAGCCTCACATATGACCTTTATTGGGCCAAAGGCGCCTAAAGCTGATTTAGGTCAGGCAGCCTATAAGCAAATTCTGAGTCAACTTGGTTATCAAATCTATGTCTCTCAGGCTCAGCTAGCGCAAAAAGGGCAAGAGCAGACTATGACCTTGACCTTTGAAAATAAAGGAGCAGCGCCTTTCTACTATGACTGGCCGCTATACCTCTATCTTCAAGATGGCCAGGGAAAAGAGCTTAAAAAGATTGAAGTGCCACTGACCTTGTCTCAGCTAGTGCCCGGGCGCCAAGAAACGGTGAGTGTGGCCTTAAATCTCTCGTCTCAAGAAAGTTCTCAGGCAGGGCATTATCAATACAGTCTAGGCATTGTGGACCCTATGACCGGCAAGGATGCCCTACGTTTGGCCATGCCGGGCTACGATGATCAGACGGGTCGGACGATTCTTTTTCCTGCCCAATAG\n",
      ">OMX_gene_a98e35d98faeac3cca4c98281fdbb8b8|ComE operon protein 1\n",
      "ATGGAATCCCAGTATCAACTTAAGACAGGTGCAGCTAAGCTAAAATGGTGGTTAGTTGGCTTATTTGCCATAGGAATTATAGGCATTGTCATTGGCTTAATATGGCTTAACTTGCGCCCAAGACGGCCCATAATGCAAGAAGAGTCTTCTATCAGTTCCAGTAGGCTTCCTGAGCCAATCTCTTCACAGCAATCCTCCCAGCCCGATAAGATTTATGTAGACCTCAAGGGAGCCGTCAAGCATCCAGGTGTCTATGCCCTAGATCAGGGTAGTCGGGTCTTTGACCTGCTGGAAATGGCGGGTGGTTTGACGGAAGATGCGGCCGAGCGGGCCCTTAACCAAGCACAACTCCTAGTGGATCAGCAGAGTCTCTATGTACCCACCATGGCGGAATGGGAGGCTGAGAGCCAGGGACCGCAAGCTAACGTGGTAGGAAGTCAGGATCCCTTAGTTTCTAGTCCTAGTCCTAATAGTGGCAAGGTTAATGTCAACCAAGCCGATTTGGCTCAATTAGAGACTTTGCCCGGTATTGGGGCTAAAAAAGCCCAAGCTATTATTGACTACCGGACGACAAACGGCTCCTTTCATTCGCTTGAGGACTTAGGCAAAGTCAAGGGCATCGGGCCTAAGATGCTGGAAAAGTTAAGAGATCTGGTGATTTTCCAATGA\n",
      ">OMX_gene_b93cde3fdd6360fb7911bbcdbefb7f33|Energy-coupling factor transporter ATP-binding protein EcfA2\n",
      "ATGGATCACACCATTGTATTCGACCAAGTAAGTTACCATTACAATGCCAATACGCCTTTTGAGGTAGCGGCCCTCTTCGACGTTAATTTAACCATTCCAGCCCACCAAGTGACTGCCGTCATCGGCCATACGGGTTCAGGCAAGTCGACTCTGATTCAACACCTTAATGTTTTGATTAAGCCAACCAAGGGCTCAGTACGTCTAGGGGATGTCTTGGTTACATCTACGGCTAAGTTACCTTCCCTCAAGCCCTTGCGTAAGCAGGTCGGTGTCGTCTTCCAATTCCCGGAAGCCCAGCTCTTTGAAGAGACGGTCCTCAAGGATGTCATGTTTGGACCTTTGAATTTTGGTGTCTCGGAAGAGGACGCGCTCGCCATTGCTAAGGAAAAATTATCCCTGGTCGGCATCAGTCCGGACCTCTATGAGCGCTCGCCTTTCGATCTCAGTGGAGGCCAAATGCGACGGGTGGCCATTGCGGGTGTTTTGGCCTTAGAACCGCAAGTGTTGGTCTTAGACGAGCCAACTGCCGGCTTAGACCCACTGGGTCAAGCCCAAATGCTGGACATGTTCATGCGCCTCCAAAAAGAGGATAAGTTGACCCTAGTCTTAATCAGTCACCAAATGGATGACGTTGCCCGTTATGCCGACCATGTCATTGTCATGGAAGGGGGCACGGTGGCTAAGACAGGGACGCCTGAACAGGTCTTCAGCCAGACGGATTGGTTGCGCCAACGGCGCTTAGATGTGCCACGCTCCATGCAGTTTCTGGAGAAATTACAGGAGCGCTTAGGGGACCAGGCCCTAGCTATCGACCAGGCGCCCCTGACCGTTGAAGCCTTAGCCGACTTGCTCATGGCCCATCTTCCAGCTAAGGAGGGGACCGGCCATGTTGGATAA\n",
      ">OMX_gene_c7c69b17e25f5fbe3195f5fe4d9f7516|DNA topoisomerase 4 subunit B\n",
      "ATGGCTGATAAGCAGCAATTATTAACAAATTATGGTGATGATGCCATCCAAATCCTAGAGGGTTTAGAAGCTGTACGTAAGCGTCCGGGTATGTATATCGGCTCTACTGATCAACGTGGCTTGCATCACCTTTTATATGAAATTGTGGACAATGCTGTCGATGAAGCTTTGTCAGGTTTTGCGGACCATATTAAGGTAACCATCTGTCAAGATGGTAGTGTTAAAGTTCAAGATAATGGTCGTGGTTTGCCAGTCGGCTTGCATGCTTCAGGTAAGCCAACCATTGAAGTGGTCTTTACTGTCCTCCATGCCGGCGGTAAATTTGGTCAAGGTGGTTATAAGTCGGCTGGTGGTCTTCACGGGGTAGGGGCTTCAGTGGTCAATGCGCTCTCTACTTGGGTGCAGGTTGAGGTGGACCGTGATGGCTATACCTATCAAATGCGTTTTGAGAATGGGGGCGTGCCGGTTACTAAACTCATTAAGACTAAGAACTCCAACAAGTCTAAACATGGAACTACCGTGCATTTTATGCCGGATAGCAAGATTTTTGGCCATGCTAGCATAAACAGTGAGACGATTGCAGAACGTTTGCGTGAGTCTGCCTTTCTGCTTAAGGACCTAACGATTGAACTAATCGATGAGCGTATTGATTATCATGAGGTCTTCCACTTCAGCCAAGGTCTGATTGACTTCATTACTTATTTAAATGAAGAGAAAGATACCCTTGGAGATATCGCTGGTTTTGCTGGTGAGGTTGAGGGCTTTGAAATTGATTTTGCCTTTCAATATAATGATGGCTATTCTGAGACCATTCTATCCTTCGCCAATAATGTTCGCACAGGTGGCGGGGGGACCCATGAAGTTGGGATGAAGACCGGCATGACTAAAGCCTTCAATGACTATGCACGTAAGGTGGGACTGCTCAAAGATAAGGATAAGAACTTAGAAGGTTCAGATGTCAGAGAAGGGCTAACGGCGGTTATTTCGCTACGTATTCCTGAGGAATACCTGCAATTCGAAGGTCAAACCAAGGAAAAACTTGGAACGCCTAAGGCGCGCCCACTGGTAGAAAACTTCGTTAACGAAAAAATGACGGCCTATCTCAATGAGAATGGCAACTTCTCTCAGATGATTCTGCGTAAGGCCATTAAGGCCAGAGAAACGCGCGAAGCGGCGCGTAAGGCTCGTGACGCGGCGCGATCTGGTTCTAAGAAGCAGGCCCAAGAACGAGCAATTTCCGGTAAATTAACTAAGGCTCAATCAAAGGATTCCAGCAAGAACGAACTCTACCTAGTCGAAGGTGACTCTGCTGGTGGTTCAGCTAAGCTTGGCCGAAATCGCCAGTATCAAGCCATCCTGCCACTTCGCGGTAAGGTCATCAACACCGAAAAAGCGTCTATGCAAGATATCCTTAAAAACGAGGAAATCAATACCATGATTTATACCATCGGGGCTGGAGTAGGGGCAGATTTTGACCTAGAGTCGGTTAACTACAACAAAGTCATTATCATGACCGACGCGGACACGGATGGTGCCCACATTCAAGTCTTACTCTTAACTTTCTTCTACCGTTATATGAAGCCCTTGTTAGAAGCGGGCAAGGTCTATTTAGCTATGCCGCCACTCTTCAAAATATCTAAAGGATCAGGTAAGAAGCAAGTGGTGGAATATGCCTGGACAGATGAAGAATTAGCCAGCAAAATTGCCAAAGTTGGCAAAGGCTATGTTCTACAACGCTATAAAGGTCTTGGGGAAATGAATGCCGACCAGCTATGGGATACTACCATGAACCCAGAAACCCGTCTATTGATTCGTGTCACGATTGATGATGGGGCACGCGCGGAACGCCGATTGACTACCTTGATGGGTAATAAGGTAGAACCACGACGTAAGTGGATTGAGCGTCATGTCAGCTTTACGCTAGATACAGAAGACTCAATTCTGGAAATGTCGCAAGGGCAAGAATCCAGTCATGCCCATCATGAAAGTTTAGTCAAACAACAAGATGCGCGTCAAGAAGCCCAAGGGCCTGAGTTAATTGCTCAGGATTCCGGTGAATTTTCACTCTTTAATGATGAGGAGGTCTAA\n",
      ">OMX_gene_9736211078bd74005ee0e4b9f8ac7fea|Thiamine pyrophosphokinase\n",
      "GTGGCAACAGCATGTGTCATTGTCTGTGGGGGTGGACCTAATCCAGCCCTTGATCAGATTGAAAATTTAATTCAAGCCTATGACCAAGTCTATTTTGTAGGGGCTGATCGTGGAGCCTTAAGATTAGTCAGAGCAGGCTATGTGCTGGATATGGCCTTGGGCGACTTTGATTCGGTGTCGGAAGAAGAGCGCCAAGTTATTGAGGCACATAGTCAGGAATTTCAAGCCTTTCCTAGCGAGAAGGACGATACCGATGGCCATTTGGCTTTGGACATGGCCATGACCCGCTGGCCGGAGGCAGATTATGTGGCGCTTGGTTTTCTAGGTGAAAGGGGCGGGCGGCTGGACCATTTATTGGCCAATATTTGGCTGGCCCATCAGCCACGCTTCCAAGCAGGTTTGTCTCGTCTTACCTTGCTGGAGGCTCACCACAAGGTGCGTTTCTTAAAGCCTGGCCACCATGTCTTGGCCTACGAGCCCTGTCTCTATCTGTCTGTCATTAGCCTGACACCAGTTCAAGGTCTGACCATTCAAGGCGCCAAGTACACCTTGCCAGCAACGGATTATGCTAGTCCCCAATCTCTCATTAGCAATGAATACAAAGCCAGTCAGGAGCCTGTGGAAATAGCCTTTGAGTCGGGTCTGGTCATGATTTTCTGGGTCAATCAAGTGTAA\n",
      ">OMX_gene_1faecc60aa8e96d69194feb11e043e07|hypothetical protein\n",
      "GTGCGTGATTGCTCCAGTGATAGGTCGCGCATGACAATCATCATGAAAATTATCCTAACTATCTTGTTTATTGTCCAAATAATTTTATCGCTTTATCTAGCATATCTTACGAAGAAGGCTAATAAGCTAGACGCTGAAATTCAGGCATTAAAAGAAGAAGCTGAACATAAAAAACTAACATAA\n",
      ">OMX_gene_1984f6e62eac007041cb8c3944cc94dd|hypothetical protein\n",
      "ATGGAAATTGGTGAAGCTCTATATTATTATCGTAAAAAATTAGGCCTAACAATGGAAGAAATGTCCGTCGGTATCGTGACTCCTTCGTTTTACTCGAAGGTAGAAAAAGGTATCCACCGTATTTCAGCTGAAGATTTATTTAATATTCTTAATACACATGGCATTGATATCACGAAATTTGTAAGATCTGTTAATATTTCAAGCGATTCACTTGGTTTTGATCGTGCGCAGCATCAAATTCTTCAATACTATACACGCTATCAAAGTCAAAATCTAATTCAGTTGAAAAGTCAATTTCAAGGTGATAATAGTCTTAATCAACTTGAAAAAGATTTACTTACGGCAATTGTTGATGTTTATCTGGCCGACTTAAACGATGATATATCCATGGTTGCAGAAAATACCAAACATTTTCTGCAAGATAAGCTTTTCAACGCTGAAAACTGGGATAGCTATAAATTATCTTTATATACTAATATTATGGATTTATATGACCTAGAAGCTAACCGTCAAATGATTTTTTCTATACTTCGAAAAAATCTTGATGCTTATACAAGTAAACAACGAATGATGATATTAGCAATTCTAAACAATTTAATTTATACTTGTATCAGAGAGAATGAAGATGAATTAGCTCGCTACTGTCTAACAATCATAAATAAAGAAGTTACTTTATACGAAAATCTTCCAGAAAAAATACATGCGCTATTTTACCAAGAACTATTAGCCTATCGAGCTACTCCACACTCTTTACATGTAGATAAAATTGAACGCATCATTGATTCTCTTAGTCTATATGGGCTCGAGGAGACTAGTCATCAATTTCGGAAATTCTATGAAGAAAACAAAAGCTGTGAATGA\n",
      ">OMX_gene_90b19bd2ed080a5dc98981ffdf4c790e|DNA topoisomerase 4 subunit A\n",
      "ATGAGCCAAGAAATGATTCAAGAATTAAGCTTTGCAGATGTGATTGGTGATCGCTTTGGTCGTTATTCCAAGTACATCATTCAAGACCGGGCCTTGCCAGATATTCGAGACGGTCTCAAACCGGTTCAACGCCGGATTCTATACGCTATGTATCGTGACCGGAATACAGCCGACAATCCTTACCGTAAGTCCGCTAAGACGGTCGGTAATGTCATCGGTAACTATCACCCTCATGGGGACTCTTCTGTCTATGAAGCCATGGTCCGCATGAGTCAAGACTGGAAGTTGCGCAATCCTCTGATTGATATGCACGGGAATAATGGTTCCATGGATGGGGACCCAGCCGCGGCTATGCGTTATACCGAAGCCCGCCTGTCACCTATTGCGGCTCAGTTACTGCGTGATATTAAGCAAGAAACTGTTGATTTTATCCTTAACTTCGATGATACGGAAGAGGAGCCAACGGTTCTACCAGCACGTTTCCCAAATCTCCTAGTCAATGGGGCAACAGGGATTTCAGCTGGTTACGCCACTGAAATTCCCCCTCATAATCTAGGTGAAATTATTGATGCCGTCATCTATCTCTTAACCCACAAGCGTCCTAAGTTAGAGGAATTGTTGGAGTTGGTGCCGGGCCCTGACTTCCCTACGGGAGCCATTATTCAAGGTATAGATGCCATTCAACAGGCCTATAAGACAGGCCAAGGTAAGATTACCTTAGTTTCGCAAACTGACATTGAAAGTCTAAAAGGTGGGAAAAGTCAGATTGTGGTGACTGAGCTACCATACGAGGTCAATAAGAGTAAACTCATTCAACGTTTGGACGAAATTCGCATTCAGCGTAAGGTAGAGGGTATCGCAGATGTTCGCGATGAATCTGACCGTAATGGAGTGCGTCTGGTAGTCGAACTTAAGCGTGACGTTGACGCCAAAGGGATTCTGACCTATCTTCTGAAACATACTGACTTGCAAGTGAACTACCATTTTAACATGGTCGCGATTAACAAAAGACGACCTGAACTGGTTAACTTACAAACCATGTTGGAAGCCTATATCAGTCACCAGCAGGAAGTACTAACCCGTCGCACTCAGTATGATTTGGCTAATGACCAAAAACGTCTACATATTGTAGATGGTTTGATTCGGGTAGTCTCCATTCTGGATGAAGTCATTGCCACTATTCGTCGCTCTGATAATAAGCAGGATGCTAAGGAAAACTTAGTAGCTGAGTTTGATTTTTCTTTAGAACAAGCCGAAGCCATTGTGTCCTTACAACTCTATCGTTTGACAAATACCGATATTACGGCCTTGCAACAGGAACGTTTGGAATTGAATGAGCGGATTCTGATGTATCAAAATATCCTATCCAATCCTGAAATCCTCAATAAGGTTCTGATTAATGAACTTAAAGCTATCAAAAAAGACTTTGCGACACCGCGTCGTAGCCAAATACAAGCAGAGGTTCAAAGCCTAGAAATCGATACTCATATTCTGATTCCAGACGAGCAAGTTATGGTTTCTTTGACCAAGGAAGGCTATATGAAGCGTACTAGTATGCGTTCCTTTGCCTCATCTGATCTAAATAGTTTAGGCTTACGTGACTTTGACTATCCAATTTTTGTCGAGGAACTCAGTACACATCAAGAATTAGTCATTATCACTTCAAAGGGGAATTATATCCATATTCCGGTGCATGAACTGCCTGAAATTAAATGGAAGGATCTTGGGGTCCATCTGTCCCAAAACTATCAACTTCAAGATGGTGAACGCTTTGTTAAGGCTTTTGTGGCAAGCCAGGAGGACCATAAACTAATCTTGGCTACTAAGGCGGGTATGATTAAGCAGACGCCATTATCGGCCTTCACGACTTACCGGTCTTATAAAACGCGGACGGCAAAGGCTATGAATCTGCTAGACGATCAAGATGAAGTAGTAGCAGCGGAATGCCTTAAAGCTGGTCAAAATTATGAGGTCGTCTTATTGACCAAACGCTCTTATTGCTTACGTTACTCAGCTGACTTGGTATCAGAAATGGGCCTGAAAGCCAAAGGGGTAACAGCAATTAAGTTGAAAAAAGAAGACCAGGTGGTTGCCTGCTTAGTGGTTAACCAAGAAGCAAAACGGCCACAACTCTTTGCCTTGACTCAGCGAGGAAATGTGAAACGCAGTGATTTAACTGTCATACCTGAACTGGGGCGTGGCTCGCGTGGCGTCCTCTTACTAAAAGAATTAAAAACCAATCCGCATCAATTATTGAAAGTCCTAGCCCTTGATAAAGCGCAGCACCAAGTCTGTCTTTTAGGGGATACAGGACAAAGTGTGGTCTTTCCAGCTAGTGAGATTCCACTGTCGGATCGCCTTGCTAACGGCTCGCAAGCGCCTGATTTAGCCAAATTGGGTAATGTCTTAGACTGTTATTTAGTCTTGGACATCCAATCTCAGGCTTCAGAAGCAAATTAG\n",
      ">OMX_gene_cfecbc0f40e063e3bd08db30e02ab856|30S ribosomal protein S19\n",
      "GTGAGTCGTAGTTTGAAAAAAGGACCTTTCTGTGATGCGCACTTAATGAAAAAAGTGGAAGAGCAAGCAGAAAGCACAAAGAAACAAGTTATTAAAACCTGGTCACGTCGTTCAACCATCTTCCCTAACTTCATTGGTTTAACCATTGCCGTTTATGATGGCCGCAAGCACGTGCCTGTATATGTTCAAGAAGATATGGTAGGTCACAAATTAGGTGAATTCGTACCAACTCGTACTTATAAAGGTCACGCAGCTGACGACAAGAAATCTAAGAAACGCTAA\n"
     ]
    }
   ],
   "source": [
    "gene_results_fasta = genes.results(type='fasta')\n",
    "print(gene_results_fasta)"
   ]
  },
  {
   "cell_type": "markdown",
   "metadata": {
    "colab_type": "text",
    "id": "ccFSaDiIk5qh"
   },
   "source": [
    "### Get GO-terms and IPR-codes by Gene"
   ]
  },
  {
   "cell_type": "code",
   "execution_count": 24,
   "metadata": {
    "colab": {
     "base_uri": "https://localhost:8080/",
     "height": 515
    },
    "colab_type": "code",
    "id": "iUXH8rwNk6Qg",
    "outputId": "c885ae54-21ae-4d72-91a3-3da2b7ddb46e"
   },
   "outputs": [
    {
     "data": {
      "text/html": [
       "<div>\n",
       "<style scoped>\n",
       "    .dataframe tbody tr th:only-of-type {\n",
       "        vertical-align: middle;\n",
       "    }\n",
       "\n",
       "    .dataframe tbody tr th {\n",
       "        vertical-align: top;\n",
       "    }\n",
       "\n",
       "    .dataframe thead th {\n",
       "        text-align: right;\n",
       "    }\n",
       "</style>\n",
       "<table border=\"1\" class=\"dataframe\">\n",
       "  <thead>\n",
       "    <tr style=\"text-align: right;\">\n",
       "      <th></th>\n",
       "      <th>id</th>\n",
       "      <th>name</th>\n",
       "      <th>type</th>\n",
       "      <th>category</th>\n",
       "      <th>status</th>\n",
       "      <th>omx_creation_ts</th>\n",
       "      <th>omx_modified_ts</th>\n",
       "      <th>classification</th>\n",
       "    </tr>\n",
       "  </thead>\n",
       "  <tbody>\n",
       "    <tr>\n",
       "      <th>0</th>\n",
       "      <td>GO:0005737</td>\n",
       "      <td>[cytoplasm]</td>\n",
       "      <td>go</td>\n",
       "      <td>CELLULAR_COMPONENT</td>\n",
       "      <td>active</td>\n",
       "      <td>2018-11-30T13:04:11.000Z</td>\n",
       "      <td>2020-08-14T12:02:18.000Z</td>\n",
       "      <td>[bacteria]</td>\n",
       "    </tr>\n",
       "    <tr>\n",
       "      <th>1</th>\n",
       "      <td>GO:0006807</td>\n",
       "      <td>[nitrogen compound metabolic process]</td>\n",
       "      <td>go</td>\n",
       "      <td>BIOLOGICAL_PROCESS</td>\n",
       "      <td>active</td>\n",
       "      <td>2018-11-30T13:04:11.000Z</td>\n",
       "      <td>2020-08-14T12:02:18.000Z</td>\n",
       "      <td>[bacteria]</td>\n",
       "    </tr>\n",
       "    <tr>\n",
       "      <th>2</th>\n",
       "      <td>GO:0003824</td>\n",
       "      <td>[catalytic activity]</td>\n",
       "      <td>go</td>\n",
       "      <td>MOLECULAR_FUNCTION</td>\n",
       "      <td>active</td>\n",
       "      <td>2018-11-30T13:04:11.000Z</td>\n",
       "      <td>2020-08-14T12:02:18.000Z</td>\n",
       "      <td>[bacteria]</td>\n",
       "    </tr>\n",
       "    <tr>\n",
       "      <th>3</th>\n",
       "      <td>GO:0006542</td>\n",
       "      <td>[glutamine biosynthetic process]</td>\n",
       "      <td>go</td>\n",
       "      <td>BIOLOGICAL_PROCESS</td>\n",
       "      <td>active</td>\n",
       "      <td>2018-11-30T13:04:11.000Z</td>\n",
       "      <td>2020-08-14T12:02:18.000Z</td>\n",
       "      <td>[bacteria]</td>\n",
       "    </tr>\n",
       "    <tr>\n",
       "      <th>4</th>\n",
       "      <td>GO:0009399</td>\n",
       "      <td>[nitrogen fixation]</td>\n",
       "      <td>go</td>\n",
       "      <td>BIOLOGICAL_PROCESS</td>\n",
       "      <td>active</td>\n",
       "      <td>2018-11-30T13:04:11.000Z</td>\n",
       "      <td>2020-08-14T11:35:49.000Z</td>\n",
       "      <td>[bacteria]</td>\n",
       "    </tr>\n",
       "    <tr>\n",
       "      <th>5</th>\n",
       "      <td>GO:0004356</td>\n",
       "      <td>[glutamate-ammonia ligase activity]</td>\n",
       "      <td>go</td>\n",
       "      <td>MOLECULAR_FUNCTION</td>\n",
       "      <td>active</td>\n",
       "      <td>2018-11-30T13:04:11.000Z</td>\n",
       "      <td>2020-08-14T12:02:18.000Z</td>\n",
       "      <td>[bacteria]</td>\n",
       "    </tr>\n",
       "  </tbody>\n",
       "</table>\n",
       "</div>"
      ],
      "text/plain": [
       "           id                                   name type            category  \\\n",
       "0  GO:0005737                            [cytoplasm]   go  CELLULAR_COMPONENT   \n",
       "1  GO:0006807  [nitrogen compound metabolic process]   go  BIOLOGICAL_PROCESS   \n",
       "2  GO:0003824                   [catalytic activity]   go  MOLECULAR_FUNCTION   \n",
       "3  GO:0006542       [glutamine biosynthetic process]   go  BIOLOGICAL_PROCESS   \n",
       "4  GO:0009399                    [nitrogen fixation]   go  BIOLOGICAL_PROCESS   \n",
       "5  GO:0004356    [glutamate-ammonia ligase activity]   go  MOLECULAR_FUNCTION   \n",
       "\n",
       "   status           omx_creation_ts           omx_modified_ts classification  \n",
       "0  active  2018-11-30T13:04:11.000Z  2020-08-14T12:02:18.000Z     [bacteria]  \n",
       "1  active  2018-11-30T13:04:11.000Z  2020-08-14T12:02:18.000Z     [bacteria]  \n",
       "2  active  2018-11-30T13:04:11.000Z  2020-08-14T12:02:18.000Z     [bacteria]  \n",
       "3  active  2018-11-30T13:04:11.000Z  2020-08-14T12:02:18.000Z     [bacteria]  \n",
       "4  active  2018-11-30T13:04:11.000Z  2020-08-14T11:35:49.000Z     [bacteria]  \n",
       "5  active  2018-11-30T13:04:11.000Z  2020-08-14T12:02:18.000Z     [bacteria]  "
      ]
     },
     "metadata": {},
     "output_type": "display_data"
    },
    {
     "data": {
      "text/html": [
       "<div>\n",
       "<style scoped>\n",
       "    .dataframe tbody tr th:only-of-type {\n",
       "        vertical-align: middle;\n",
       "    }\n",
       "\n",
       "    .dataframe tbody tr th {\n",
       "        vertical-align: top;\n",
       "    }\n",
       "\n",
       "    .dataframe thead th {\n",
       "        text-align: right;\n",
       "    }\n",
       "</style>\n",
       "<table border=\"1\" class=\"dataframe\">\n",
       "  <thead>\n",
       "    <tr style=\"text-align: right;\">\n",
       "      <th></th>\n",
       "      <th>id</th>\n",
       "      <th>name</th>\n",
       "      <th>type</th>\n",
       "      <th>category</th>\n",
       "      <th>description</th>\n",
       "      <th>status</th>\n",
       "      <th>omx_creation_ts</th>\n",
       "      <th>omx_modified_ts</th>\n",
       "      <th>classification</th>\n",
       "    </tr>\n",
       "  </thead>\n",
       "  <tbody>\n",
       "    <tr>\n",
       "      <th>0</th>\n",
       "      <td>IPR001637</td>\n",
       "      <td>[Gln_synth_I_adenylation_site]</td>\n",
       "      <td>ipr</td>\n",
       "      <td>CONSERVED_SITE</td>\n",
       "      <td>Glutamine synthetase class-I, adenylation site</td>\n",
       "      <td>active</td>\n",
       "      <td>2019-07-18T16:02:34.000Z</td>\n",
       "      <td>2020-08-14T11:52:41.000Z</td>\n",
       "      <td>[bacteria]</td>\n",
       "    </tr>\n",
       "    <tr>\n",
       "      <th>1</th>\n",
       "      <td>IPR008147</td>\n",
       "      <td>[Gln_synt_b-grasp]</td>\n",
       "      <td>ipr</td>\n",
       "      <td>DOMAIN</td>\n",
       "      <td>Glutamine synthetase, beta-Grasp domain</td>\n",
       "      <td>active</td>\n",
       "      <td>2019-07-18T16:02:34.000Z</td>\n",
       "      <td>2020-08-14T11:52:45.000Z</td>\n",
       "      <td>[bacteria]</td>\n",
       "    </tr>\n",
       "    <tr>\n",
       "      <th>2</th>\n",
       "      <td>IPR008146</td>\n",
       "      <td>[Gln_synth_cat_dom]</td>\n",
       "      <td>ipr</td>\n",
       "      <td>DOMAIN</td>\n",
       "      <td>Glutamine synthetase, catalytic domain</td>\n",
       "      <td>active</td>\n",
       "      <td>2019-07-18T16:02:34.000Z</td>\n",
       "      <td>2020-08-14T12:08:57.000Z</td>\n",
       "      <td>[bacteria]</td>\n",
       "    </tr>\n",
       "    <tr>\n",
       "      <th>3</th>\n",
       "      <td>IPR014746</td>\n",
       "      <td>[Gln_synth/guanido_kin_cat_dom]</td>\n",
       "      <td>ipr</td>\n",
       "      <td>HOMOLOGOUS_SUPERFAMILY</td>\n",
       "      <td>Glutamine synthetase/guanido kinase, catalytic...</td>\n",
       "      <td>active</td>\n",
       "      <td>2019-07-18T16:02:34.000Z</td>\n",
       "      <td>2020-08-14T12:09:00.000Z</td>\n",
       "      <td>[bacteria]</td>\n",
       "    </tr>\n",
       "    <tr>\n",
       "      <th>4</th>\n",
       "      <td>IPR027302</td>\n",
       "      <td>[Gln_synth_N_conserv_site]</td>\n",
       "      <td>ipr</td>\n",
       "      <td>CONSERVED_SITE</td>\n",
       "      <td>Glutamine synthetase, N-terminal conserved site</td>\n",
       "      <td>active</td>\n",
       "      <td>2019-07-18T16:02:34.000Z</td>\n",
       "      <td>2020-08-14T11:52:52.000Z</td>\n",
       "      <td>[bacteria]</td>\n",
       "    </tr>\n",
       "    <tr>\n",
       "      <th>5</th>\n",
       "      <td>IPR036651</td>\n",
       "      <td>[Gln_synt_N]</td>\n",
       "      <td>ipr</td>\n",
       "      <td>HOMOLOGOUS_SUPERFAMILY</td>\n",
       "      <td>Glutamine synthetase, N-terminal domain superf...</td>\n",
       "      <td>active</td>\n",
       "      <td>2019-07-18T16:02:34.000Z</td>\n",
       "      <td>2020-08-14T12:09:03.000Z</td>\n",
       "      <td>[bacteria]</td>\n",
       "    </tr>\n",
       "    <tr>\n",
       "      <th>6</th>\n",
       "      <td>IPR004809</td>\n",
       "      <td>[Gln_synth_I]</td>\n",
       "      <td>ipr</td>\n",
       "      <td>FAMILY</td>\n",
       "      <td>Glutamine synthetase type I</td>\n",
       "      <td>active</td>\n",
       "      <td>2019-07-18T16:02:34.000Z</td>\n",
       "      <td>2020-08-14T11:52:44.000Z</td>\n",
       "      <td>[bacteria]</td>\n",
       "    </tr>\n",
       "    <tr>\n",
       "      <th>7</th>\n",
       "      <td>IPR027303</td>\n",
       "      <td>[Gln_synth_gly_rich_site]</td>\n",
       "      <td>ipr</td>\n",
       "      <td>CONSERVED_SITE</td>\n",
       "      <td>Glutamine synthetase, glycine-rich site</td>\n",
       "      <td>active</td>\n",
       "      <td>2019-07-18T16:02:34.000Z</td>\n",
       "      <td>2020-08-14T12:09:01.000Z</td>\n",
       "      <td>[bacteria]</td>\n",
       "    </tr>\n",
       "  </tbody>\n",
       "</table>\n",
       "</div>"
      ],
      "text/plain": [
       "          id                             name type                category  \\\n",
       "0  IPR001637   [Gln_synth_I_adenylation_site]  ipr          CONSERVED_SITE   \n",
       "1  IPR008147               [Gln_synt_b-grasp]  ipr                  DOMAIN   \n",
       "2  IPR008146              [Gln_synth_cat_dom]  ipr                  DOMAIN   \n",
       "3  IPR014746  [Gln_synth/guanido_kin_cat_dom]  ipr  HOMOLOGOUS_SUPERFAMILY   \n",
       "4  IPR027302       [Gln_synth_N_conserv_site]  ipr          CONSERVED_SITE   \n",
       "5  IPR036651                     [Gln_synt_N]  ipr  HOMOLOGOUS_SUPERFAMILY   \n",
       "6  IPR004809                    [Gln_synth_I]  ipr                  FAMILY   \n",
       "7  IPR027303        [Gln_synth_gly_rich_site]  ipr          CONSERVED_SITE   \n",
       "\n",
       "                                         description  status  \\\n",
       "0     Glutamine synthetase class-I, adenylation site  active   \n",
       "1            Glutamine synthetase, beta-Grasp domain  active   \n",
       "2             Glutamine synthetase, catalytic domain  active   \n",
       "3  Glutamine synthetase/guanido kinase, catalytic...  active   \n",
       "4    Glutamine synthetase, N-terminal conserved site  active   \n",
       "5  Glutamine synthetase, N-terminal domain superf...  active   \n",
       "6                        Glutamine synthetase type I  active   \n",
       "7            Glutamine synthetase, glycine-rich site  active   \n",
       "\n",
       "            omx_creation_ts           omx_modified_ts classification  \n",
       "0  2019-07-18T16:02:34.000Z  2020-08-14T11:52:41.000Z     [bacteria]  \n",
       "1  2019-07-18T16:02:34.000Z  2020-08-14T11:52:45.000Z     [bacteria]  \n",
       "2  2019-07-18T16:02:34.000Z  2020-08-14T12:08:57.000Z     [bacteria]  \n",
       "3  2019-07-18T16:02:34.000Z  2020-08-14T12:09:00.000Z     [bacteria]  \n",
       "4  2019-07-18T16:02:34.000Z  2020-08-14T11:52:52.000Z     [bacteria]  \n",
       "5  2019-07-18T16:02:34.000Z  2020-08-14T12:09:03.000Z     [bacteria]  \n",
       "6  2019-07-18T16:02:34.000Z  2020-08-14T11:52:44.000Z     [bacteria]  \n",
       "7  2019-07-18T16:02:34.000Z  2020-08-14T12:09:01.000Z     [bacteria]  "
      ]
     },
     "metadata": {},
     "output_type": "display_data"
    }
   ],
   "source": [
    "genes = omx.genes(ids='921db25406f80e09c8f78dd915f355aa')\n",
    "genes = genes.results()\n",
    "\n",
    "gene = genes[0]\n",
    "# print(gene)\n",
    "\n",
    "display(gene.go().results(type='df'))\n",
    "display(gene.ipr().results(type='df'))"
   ]
  }
 ],
 "metadata": {
  "colab": {
   "name": "Getting Started with OMXware.ipynb",
   "provenance": [],
   "version": "0.3.2"
  },
  "kernelspec": {
   "display_name": "Python 3",
   "language": "python",
   "name": "python3"
  },
  "language_info": {
   "codemirror_mode": {
    "name": "ipython",
    "version": 3
   },
   "file_extension": ".py",
   "mimetype": "text/x-python",
   "name": "python",
   "nbconvert_exporter": "python",
   "pygments_lexer": "ipython3",
   "version": "3.7.5"
  }
 },
 "nbformat": 4,
 "nbformat_minor": 1
}
